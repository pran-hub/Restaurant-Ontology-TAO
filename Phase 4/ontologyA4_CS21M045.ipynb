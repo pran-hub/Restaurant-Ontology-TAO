{
  "cells": [
    {
      "cell_type": "code",
      "source": [
        "!pip install rdflib"
      ],
      "metadata": {
        "id": "mU-1xnKkkJuE"
      },
      "id": "mU-1xnKkkJuE",
      "execution_count": null,
      "outputs": []
    },
    {
      "cell_type": "code",
      "source": [
        "!pip install owlready2"
      ],
      "metadata": {
        "id": "-YWtCTbGM6Ot"
      },
      "id": "-YWtCTbGM6Ot",
      "execution_count": null,
      "outputs": []
    },
    {
      "cell_type": "code",
      "execution_count": 3,
      "metadata": {
        "id": "V-zitVTwkFWp"
      },
      "outputs": [],
      "source": [
        "import os\n",
        "from rdflib import Graph,Literal, RDF, URIRef\n",
        "from rdflib.namespace import FOAF, XSD\n",
        "from rdflib.namespace import  RDF, RDFS\n",
        "\n",
        "cwd=os.getcwd()"
      ],
      "id": "V-zitVTwkFWp"
    },
    {
      "cell_type": "markdown",
      "metadata": {
        "id": "egU51e39kFWz"
      },
      "source": [
        "### Fetch data from XML"
      ],
      "id": "egU51e39kFWz"
    },
    {
      "cell_type": "code",
      "execution_count": 4,
      "metadata": {
        "id": "3PEVe-ENkFW2"
      },
      "outputs": [],
      "source": [
        "import xml.etree.ElementTree as ET\n",
        "\n",
        "tree = ET.parse('myxml.xml')\n",
        "root = tree.getroot()\n",
        "\n",
        "waiters = []\n",
        "AllWaiters = root.findall(\"Branch/Staff/Waiter\")\n",
        "for w in AllWaiters:\n",
        "    wId = w.get('Id')\n",
        "    name = w.find('Name')\n",
        "    salary = w.find('Salary')\n",
        "    contact = w.find('Contact')\n",
        "    phn = contact[0]\n",
        "    email = contact[1]\n",
        "    waiters.append([wId,name.text,salary.text,phn.text,email.text])\n",
        "\n",
        "orders = []\n",
        "Allorders = root.findall(\"Branch/Customer/Order\")\n",
        "for w in Allorders:\n",
        "    #waiters.append(w)\n",
        "    oId = w.get('OrderNo')\n",
        "    Date = w.find('Date')\n",
        "    details = \"Date = \"+Date[0].text+\" \"+Date[1].text+\" \"+Date[2].text+\" | \"\n",
        "    amount = w.find('Amount')\n",
        "    details = details+\"Amount = \"+amount.text+\" | Items =\"\n",
        "    items = w.findall('OrderItem')\n",
        "    ordItems = set()\n",
        "    for item in items:\n",
        "      it = item.get('itemId')\n",
        "      ordItems.add(it)\n",
        "      details = details + ' '+it\n",
        "    wait = w.find('ServedBy')\n",
        "    servBy = wait.get('waiterId')\n",
        "    orders.append([oId,servBy,details,ordItems])"
      ],
      "id": "3PEVe-ENkFW2"
    },
    {
      "cell_type": "code",
      "source": [
        "# print(*waiters, sep = \"\\n\")"
      ],
      "metadata": {
        "id": "MNnFnJ4A0DWO"
      },
      "id": "MNnFnJ4A0DWO",
      "execution_count": null,
      "outputs": []
    },
    {
      "cell_type": "code",
      "source": [
        "# print(*orders, sep = \"\\n\")"
      ],
      "metadata": {
        "id": "osRJiDYmmdCC"
      },
      "id": "osRJiDYmmdCC",
      "execution_count": null,
      "outputs": []
    },
    {
      "cell_type": "code",
      "source": [
        "Foods = {}\n",
        "Beverages = {}\n",
        "AllStarter = root.findall(\"Branch/MenuCard/Starter/Item\")\n",
        "AllMainCourse = root.findall(\"Branch/MenuCard/MainCourse/Item\")\n",
        "AllDessert = root.findall(\"Branch/MenuCard/Dessert/Item\")  \n",
        "for w in AllStarter:\n",
        "  id=w.get('Id')\n",
        "  if(w[0].tag == \"Food\"):\n",
        "    Foods[id]=w[0].text\n",
        "  elif(w[0].tag == \"Beverage\"):\n",
        "    Beverages[id]=w[0].text\n",
        "for w in AllMainCourse:\n",
        "  id=w.get('Id')\n",
        "  if(w[0].tag == \"Food\"):\n",
        "    Foods[id]=w[0].text\n",
        "  elif(w[0].tag == \"Beverage\"):\n",
        "    Beverages[id]=w[0].text\n",
        "for w in AllDessert:\n",
        "  id=w.get('Id')\n",
        "  if(w[0].tag == \"Food\"):\n",
        "    Foods[id]=w[0].text\n",
        "  elif(w[0].tag == \"Beverage\"):\n",
        "    Beverages[id]=w[0].text"
      ],
      "metadata": {
        "id": "s3VkDGXKiLzW"
      },
      "id": "s3VkDGXKiLzW",
      "execution_count": 5,
      "outputs": []
    },
    {
      "cell_type": "code",
      "source": [
        "# f = Foods.values()\n",
        "# for i in f:\n",
        "#   print(f'{i} {type(i)}')\n",
        "\n",
        "# f = Beverages.values()\n",
        "# for i in f:\n",
        "#   print(f'{i} {type(i)}')"
      ],
      "metadata": {
        "id": "vFIkUE1bpJg0"
      },
      "id": "vFIkUE1bpJg0",
      "execution_count": null,
      "outputs": []
    },
    {
      "cell_type": "code",
      "execution_count": 6,
      "metadata": {
        "id": "BQZCUnqMRbsk"
      },
      "outputs": [],
      "source": [
        "g=Graph()\n",
        "filename = cwd+\"/RestaurantOntologyRdf.owl\"\n",
        "g.load(filename, format='xml')\n",
        "\n",
        "def isAlreadyDefined(subs):\n",
        "    for s in g.subjects():\n",
        "        if(subs in str(s)):\n",
        "            return True\n",
        "    return False\n",
        "\n",
        "myNamespace=\"http://www.semanticweb.org/ajay/ontologies/2022/3/RestaurantOnto\"\n",
        "namedIndividual = URIRef('http://www.w3.org/2002/07/owl#NamedIndividual')\n",
        "rdftype = URIRef(\"http://www.w3.org/1999/02/22-rdf-syntax-ns#type\")"
      ],
      "id": "BQZCUnqMRbsk"
    },
    {
      "cell_type": "code",
      "source": [
        "triplets=[]\n",
        "obj_properties=[]  \n",
        "att_properties=[]  \n",
        "\n",
        "arc_class=str(myNamespace)+\"#Waiter\"\n",
        "for indv in waiters:\n",
        "  individualName=str(myNamespace)+\"#\"+str(indv[1]).replace(' ','_')\n",
        "  arc_individual = URIRef(individualName)\n",
        "  if(isAlreadyDefined(individualName)==False): \n",
        "    triplets.append((arc_individual,RDF.type, URIRef(arc_class)))\n",
        "    triplets.append((arc_individual,RDF.type, URIRef(namedIndividual)))\n",
        "\n",
        "    subject=arc_individual\n",
        "    #pred= URIRef(str(myNamespace)+\"#id\")\n",
        "    literal=indv[0]\n",
        "    att_properties.append( (subject, URIRef(str(myNamespace)+\"#id\")  , Literal(literal,datatype=XSD.string)) )\n",
        "    att_properties.append( (subject, URIRef(str(myNamespace)+\"#name\"), Literal(indv[1],datatype=XSD.string)) )\n",
        "    att_properties.append( (subject, URIRef(str(myNamespace)+\"#salary\"), Literal(indv[2],datatype=XSD.string)) )\n",
        "    \n",
        "\n",
        "arc_class=str(myNamespace)+\"#Order\"\n",
        "for indv in orders:\n",
        "  individualName=str(myNamespace)+\"#\"+str(indv[0])\n",
        "  arc_individual = URIRef(individualName)\n",
        "  if(isAlreadyDefined(individualName)==False): \n",
        "    triplets.append((arc_individual,RDF.type, URIRef(arc_class)))\n",
        "    triplets.append((arc_individual,RDF.type, URIRef(namedIndividual)))\n",
        "\n",
        "    subject=arc_individual\n",
        "    att_properties.append( (subject, URIRef(str(myNamespace)+\"#orderDetails\"), Literal(indv[2],datatype=XSD.string)) )\n",
        "\n",
        "arc_class=str(myNamespace)+\"#Food\"\n",
        "foodList = Foods.values()\n",
        "for indv in foodList:\n",
        "  individualName=str(myNamespace)+\"#\"+str(indv).replace(' ','_')\n",
        "  # print(individualName)\n",
        "  arc_individual = URIRef(individualName)\n",
        "  if(isAlreadyDefined(individualName)==False): \n",
        "    triplets.append((arc_individual,RDF.type, URIRef(arc_class)))\n",
        "    triplets.append((arc_individual,RDF.type, URIRef(namedIndividual)))\n",
        "\n",
        "arc_class=str(myNamespace)+\"#Beverage\"\n",
        "BeverageList = Beverages.values()\n",
        "for indv in BeverageList:\n",
        "  individualName=str(myNamespace)+\"#\"+str(indv).replace(' ','_')\n",
        "  # print(individualName)\n",
        "  arc_individual = URIRef(individualName)\n",
        "  if(isAlreadyDefined(individualName)==False): \n",
        "    triplets.append((arc_individual,RDF.type, URIRef(arc_class)))\n",
        "    triplets.append((arc_individual,RDF.type, URIRef(namedIndividual)))"
      ],
      "metadata": {
        "id": "Ekw4h8buWEYB"
      },
      "id": "Ekw4h8buWEYB",
      "execution_count": 7,
      "outputs": []
    },
    {
      "cell_type": "code",
      "source": [
        "# print(att_properties[2])"
      ],
      "metadata": {
        "colab": {
          "base_uri": "https://localhost:8080/"
        },
        "id": "wSIVR38DfCAw",
        "outputId": "bdab6881-a762-48e3-e8c3-610704927d4c"
      },
      "id": "wSIVR38DfCAw",
      "execution_count": null,
      "outputs": [
        {
          "output_type": "stream",
          "name": "stdout",
          "text": [
            "(rdflib.term.URIRef('http://www.semanticweb.org/ajay/ontologies/2022/3/RestaurantOnto#Rakul'), rdflib.term.URIRef('http://www.semanticweb.org/ajay/ontologies/2022/3/RestaurantOnto#salary'), rdflib.term.Literal('18000', datatype=rdflib.term.URIRef('http://www.w3.org/2001/XMLSchema#string')))\n"
          ]
        }
      ]
    },
    {
      "cell_type": "code",
      "source": [
        "# print(att_properties[51])"
      ],
      "metadata": {
        "colab": {
          "base_uri": "https://localhost:8080/"
        },
        "id": "W7fQMXSBwoMO",
        "outputId": "ff5beb6c-4e47-4256-f984-b307e140a565"
      },
      "id": "W7fQMXSBwoMO",
      "execution_count": null,
      "outputs": [
        {
          "output_type": "stream",
          "name": "stdout",
          "text": [
            "(rdflib.term.URIRef('http://www.semanticweb.org/ajay/ontologies/2022/3/RestaurantOnto#D100001'), rdflib.term.URIRef('http://www.semanticweb.org/ajay/ontologies/2022/3/RestaurantOnto#orderDetails'), rdflib.term.Literal('Date = 20 March 2022 | Amount = 252 | Items = I103 I120 I111', datatype=rdflib.term.URIRef('http://www.w3.org/2001/XMLSchema#string')))\n"
          ]
        }
      ]
    },
    {
      "cell_type": "markdown",
      "metadata": {
        "id": "aFMeY9mIkFXT"
      },
      "source": [
        "### Add object properties \"takes\"\n",
        "#### Waiter takes orders\n",
        "#### Use attribute waiterId ServedBy provided in the XML to make the mapping"
      ],
      "id": "aFMeY9mIkFXT"
    },
    {
      "cell_type": "code",
      "execution_count": 8,
      "metadata": {
        "id": "0rp2a0lmkFXU"
      },
      "outputs": [],
      "source": [
        "for waiter in waiters:\n",
        "    individualName=str(myNamespace)+\"#\"+str(waiter[1]).replace(' ','_')  \n",
        "    sub = URIRef(individualName)         \n",
        "    pred=URIRef((myNamespace)+\"#takes\")\n",
        "\n",
        "    for ord in orders: \n",
        "        if(ord[1]==waiter[0]):\n",
        "            individualName=str(myNamespace)+\"#\"+str(ord[0]).replace(' ','_') \n",
        "            obj = URIRef(individualName)\n",
        "            obj_properties.append((sub,pred,obj))   "
      ],
      "id": "0rp2a0lmkFXU"
    },
    {
      "cell_type": "markdown",
      "source": [
        "### Add object properties \"contains\"\n",
        "#### Order contains Food\n",
        "#### Use attribute waiterId ServedBy provided in the XML to make the mapping"
      ],
      "metadata": {
        "id": "QJ1Ur68SvMf6"
      },
      "id": "QJ1Ur68SvMf6"
    },
    {
      "cell_type": "code",
      "source": [
        "for order in orders:\n",
        "  individualName=str(myNamespace)+\"#\"+str(order[0]).replace(' ','_')\n",
        "  sub = URIRef(individualName)         \n",
        "  pred=URIRef((myNamespace)+\"#contains\")\n",
        "\n",
        "  # print(order[3])\n",
        "  for item in order[3]:\n",
        "    if (Foods.get(item)!=None):\n",
        "      nn = Foods.get(item)\n",
        "      individualName=str(myNamespace)+\"#\"+str(nn).replace(' ','_')\n",
        "      obj = URIRef(individualName)\n",
        "      obj_properties.append((sub,pred,obj))\n",
        "    elif(Beverages.get(item)!=None):\n",
        "      nn = Beverages.get(item)\n",
        "      individualName=str(myNamespace)+\"#\"+str(nn).replace(' ','_')\n",
        "      obj = URIRef(individualName)\n",
        "      obj_properties.append((sub,pred,obj))"
      ],
      "metadata": {
        "id": "Boy4M_9duvAH"
      },
      "id": "Boy4M_9duvAH",
      "execution_count": 9,
      "outputs": []
    },
    {
      "cell_type": "code",
      "source": [
        "# print(*obj_properties, sep = \"\\n\")"
      ],
      "metadata": {
        "id": "If6PZT0BG1DC"
      },
      "id": "If6PZT0BG1DC",
      "execution_count": null,
      "outputs": []
    },
    {
      "cell_type": "markdown",
      "source": [
        "###Print triplets"
      ],
      "metadata": {
        "id": "nE3657M609P2"
      },
      "id": "nE3657M609P2"
    },
    {
      "cell_type": "code",
      "execution_count": 10,
      "metadata": {
        "id": "Ei6VDXczkFXY",
        "colab": {
          "base_uri": "https://localhost:8080/"
        },
        "outputId": "b977df70-fa3b-4f2d-96ba-4f51978e5ded"
      },
      "outputs": [
        {
          "output_type": "stream",
          "name": "stdout",
          "text": [
            "(rdflib.term.URIRef('http://www.semanticweb.org/ajay/ontologies/2022/3/RestaurantOnto#Rakul'), rdflib.term.URIRef('http://www.w3.org/1999/02/22-rdf-syntax-ns#type'), rdflib.term.URIRef('http://www.semanticweb.org/ajay/ontologies/2022/3/RestaurantOnto#Waiter'))\n",
            "(rdflib.term.URIRef('http://www.semanticweb.org/ajay/ontologies/2022/3/RestaurantOnto#Rakul'), rdflib.term.URIRef('http://www.w3.org/1999/02/22-rdf-syntax-ns#type'), rdflib.term.URIRef('http://www.w3.org/2002/07/owl#NamedIndividual'))\n",
            "(rdflib.term.URIRef('http://www.semanticweb.org/ajay/ontologies/2022/3/RestaurantOnto#Rahul_Sharma'), rdflib.term.URIRef('http://www.w3.org/1999/02/22-rdf-syntax-ns#type'), rdflib.term.URIRef('http://www.semanticweb.org/ajay/ontologies/2022/3/RestaurantOnto#Waiter'))\n",
            "(rdflib.term.URIRef('http://www.semanticweb.org/ajay/ontologies/2022/3/RestaurantOnto#Rahul_Sharma'), rdflib.term.URIRef('http://www.w3.org/1999/02/22-rdf-syntax-ns#type'), rdflib.term.URIRef('http://www.w3.org/2002/07/owl#NamedIndividual'))\n",
            "(rdflib.term.URIRef('http://www.semanticweb.org/ajay/ontologies/2022/3/RestaurantOnto#Ramesh_Dev'), rdflib.term.URIRef('http://www.w3.org/1999/02/22-rdf-syntax-ns#type'), rdflib.term.URIRef('http://www.semanticweb.org/ajay/ontologies/2022/3/RestaurantOnto#Waiter'))\n",
            "(rdflib.term.URIRef('http://www.semanticweb.org/ajay/ontologies/2022/3/RestaurantOnto#Ramesh_Dev'), rdflib.term.URIRef('http://www.w3.org/1999/02/22-rdf-syntax-ns#type'), rdflib.term.URIRef('http://www.w3.org/2002/07/owl#NamedIndividual'))\n",
            "(rdflib.term.URIRef('http://www.semanticweb.org/ajay/ontologies/2022/3/RestaurantOnto#Shridhar_Tambe'), rdflib.term.URIRef('http://www.w3.org/1999/02/22-rdf-syntax-ns#type'), rdflib.term.URIRef('http://www.semanticweb.org/ajay/ontologies/2022/3/RestaurantOnto#Waiter'))\n",
            "(rdflib.term.URIRef('http://www.semanticweb.org/ajay/ontologies/2022/3/RestaurantOnto#Shridhar_Tambe'), rdflib.term.URIRef('http://www.w3.org/1999/02/22-rdf-syntax-ns#type'), rdflib.term.URIRef('http://www.w3.org/2002/07/owl#NamedIndividual'))\n",
            "(rdflib.term.URIRef('http://www.semanticweb.org/ajay/ontologies/2022/3/RestaurantOnto#Pravin_Tambe'), rdflib.term.URIRef('http://www.w3.org/1999/02/22-rdf-syntax-ns#type'), rdflib.term.URIRef('http://www.semanticweb.org/ajay/ontologies/2022/3/RestaurantOnto#Waiter'))\n",
            "(rdflib.term.URIRef('http://www.semanticweb.org/ajay/ontologies/2022/3/RestaurantOnto#Pravin_Tambe'), rdflib.term.URIRef('http://www.w3.org/1999/02/22-rdf-syntax-ns#type'), rdflib.term.URIRef('http://www.w3.org/2002/07/owl#NamedIndividual'))\n",
            "(rdflib.term.URIRef('http://www.semanticweb.org/ajay/ontologies/2022/3/RestaurantOnto#Manoj_Kumar'), rdflib.term.URIRef('http://www.w3.org/1999/02/22-rdf-syntax-ns#type'), rdflib.term.URIRef('http://www.semanticweb.org/ajay/ontologies/2022/3/RestaurantOnto#Waiter'))\n",
            "(rdflib.term.URIRef('http://www.semanticweb.org/ajay/ontologies/2022/3/RestaurantOnto#Manoj_Kumar'), rdflib.term.URIRef('http://www.w3.org/1999/02/22-rdf-syntax-ns#type'), rdflib.term.URIRef('http://www.w3.org/2002/07/owl#NamedIndividual'))\n",
            "(rdflib.term.URIRef('http://www.semanticweb.org/ajay/ontologies/2022/3/RestaurantOnto#Shridhar_Gupta'), rdflib.term.URIRef('http://www.w3.org/1999/02/22-rdf-syntax-ns#type'), rdflib.term.URIRef('http://www.semanticweb.org/ajay/ontologies/2022/3/RestaurantOnto#Waiter'))\n",
            "(rdflib.term.URIRef('http://www.semanticweb.org/ajay/ontologies/2022/3/RestaurantOnto#Shridhar_Gupta'), rdflib.term.URIRef('http://www.w3.org/1999/02/22-rdf-syntax-ns#type'), rdflib.term.URIRef('http://www.w3.org/2002/07/owl#NamedIndividual'))\n",
            "(rdflib.term.URIRef('http://www.semanticweb.org/ajay/ontologies/2022/3/RestaurantOnto#Manoj_Tambe'), rdflib.term.URIRef('http://www.w3.org/1999/02/22-rdf-syntax-ns#type'), rdflib.term.URIRef('http://www.semanticweb.org/ajay/ontologies/2022/3/RestaurantOnto#Waiter'))\n",
            "(rdflib.term.URIRef('http://www.semanticweb.org/ajay/ontologies/2022/3/RestaurantOnto#Manoj_Tambe'), rdflib.term.URIRef('http://www.w3.org/1999/02/22-rdf-syntax-ns#type'), rdflib.term.URIRef('http://www.w3.org/2002/07/owl#NamedIndividual'))\n",
            "(rdflib.term.URIRef('http://www.semanticweb.org/ajay/ontologies/2022/3/RestaurantOnto#Ajay_Rathod'), rdflib.term.URIRef('http://www.w3.org/1999/02/22-rdf-syntax-ns#type'), rdflib.term.URIRef('http://www.semanticweb.org/ajay/ontologies/2022/3/RestaurantOnto#Waiter'))\n",
            "(rdflib.term.URIRef('http://www.semanticweb.org/ajay/ontologies/2022/3/RestaurantOnto#Ajay_Rathod'), rdflib.term.URIRef('http://www.w3.org/1999/02/22-rdf-syntax-ns#type'), rdflib.term.URIRef('http://www.w3.org/2002/07/owl#NamedIndividual'))\n",
            "(rdflib.term.URIRef('http://www.semanticweb.org/ajay/ontologies/2022/3/RestaurantOnto#Pratik_Tiwari'), rdflib.term.URIRef('http://www.w3.org/1999/02/22-rdf-syntax-ns#type'), rdflib.term.URIRef('http://www.semanticweb.org/ajay/ontologies/2022/3/RestaurantOnto#Waiter'))\n",
            "(rdflib.term.URIRef('http://www.semanticweb.org/ajay/ontologies/2022/3/RestaurantOnto#Pratik_Tiwari'), rdflib.term.URIRef('http://www.w3.org/1999/02/22-rdf-syntax-ns#type'), rdflib.term.URIRef('http://www.w3.org/2002/07/owl#NamedIndividual'))\n",
            "(rdflib.term.URIRef('http://www.semanticweb.org/ajay/ontologies/2022/3/RestaurantOnto#Pradip_Kumar'), rdflib.term.URIRef('http://www.w3.org/1999/02/22-rdf-syntax-ns#type'), rdflib.term.URIRef('http://www.semanticweb.org/ajay/ontologies/2022/3/RestaurantOnto#Waiter'))\n",
            "(rdflib.term.URIRef('http://www.semanticweb.org/ajay/ontologies/2022/3/RestaurantOnto#Pradip_Kumar'), rdflib.term.URIRef('http://www.w3.org/1999/02/22-rdf-syntax-ns#type'), rdflib.term.URIRef('http://www.w3.org/2002/07/owl#NamedIndividual'))\n",
            "(rdflib.term.URIRef('http://www.semanticweb.org/ajay/ontologies/2022/3/RestaurantOnto#Pradip_Patil'), rdflib.term.URIRef('http://www.w3.org/1999/02/22-rdf-syntax-ns#type'), rdflib.term.URIRef('http://www.semanticweb.org/ajay/ontologies/2022/3/RestaurantOnto#Waiter'))\n",
            "(rdflib.term.URIRef('http://www.semanticweb.org/ajay/ontologies/2022/3/RestaurantOnto#Pradip_Patil'), rdflib.term.URIRef('http://www.w3.org/1999/02/22-rdf-syntax-ns#type'), rdflib.term.URIRef('http://www.w3.org/2002/07/owl#NamedIndividual'))\n",
            "(rdflib.term.URIRef('http://www.semanticweb.org/ajay/ontologies/2022/3/RestaurantOnto#Shridhar_Chaudhari'), rdflib.term.URIRef('http://www.w3.org/1999/02/22-rdf-syntax-ns#type'), rdflib.term.URIRef('http://www.semanticweb.org/ajay/ontologies/2022/3/RestaurantOnto#Waiter'))\n",
            "(rdflib.term.URIRef('http://www.semanticweb.org/ajay/ontologies/2022/3/RestaurantOnto#Shridhar_Chaudhari'), rdflib.term.URIRef('http://www.w3.org/1999/02/22-rdf-syntax-ns#type'), rdflib.term.URIRef('http://www.w3.org/2002/07/owl#NamedIndividual'))\n",
            "(rdflib.term.URIRef('http://www.semanticweb.org/ajay/ontologies/2022/3/RestaurantOnto#Kuldeep_Tambe'), rdflib.term.URIRef('http://www.w3.org/1999/02/22-rdf-syntax-ns#type'), rdflib.term.URIRef('http://www.semanticweb.org/ajay/ontologies/2022/3/RestaurantOnto#Waiter'))\n",
            "(rdflib.term.URIRef('http://www.semanticweb.org/ajay/ontologies/2022/3/RestaurantOnto#Kuldeep_Tambe'), rdflib.term.URIRef('http://www.w3.org/1999/02/22-rdf-syntax-ns#type'), rdflib.term.URIRef('http://www.w3.org/2002/07/owl#NamedIndividual'))\n",
            "(rdflib.term.URIRef('http://www.semanticweb.org/ajay/ontologies/2022/3/RestaurantOnto#Akash_Patil'), rdflib.term.URIRef('http://www.w3.org/1999/02/22-rdf-syntax-ns#type'), rdflib.term.URIRef('http://www.semanticweb.org/ajay/ontologies/2022/3/RestaurantOnto#Waiter'))\n",
            "(rdflib.term.URIRef('http://www.semanticweb.org/ajay/ontologies/2022/3/RestaurantOnto#Akash_Patil'), rdflib.term.URIRef('http://www.w3.org/1999/02/22-rdf-syntax-ns#type'), rdflib.term.URIRef('http://www.w3.org/2002/07/owl#NamedIndividual'))\n",
            "(rdflib.term.URIRef('http://www.semanticweb.org/ajay/ontologies/2022/3/RestaurantOnto#Tushar_kamat'), rdflib.term.URIRef('http://www.w3.org/1999/02/22-rdf-syntax-ns#type'), rdflib.term.URIRef('http://www.semanticweb.org/ajay/ontologies/2022/3/RestaurantOnto#Waiter'))\n",
            "(rdflib.term.URIRef('http://www.semanticweb.org/ajay/ontologies/2022/3/RestaurantOnto#Tushar_kamat'), rdflib.term.URIRef('http://www.w3.org/1999/02/22-rdf-syntax-ns#type'), rdflib.term.URIRef('http://www.w3.org/2002/07/owl#NamedIndividual'))\n",
            "(rdflib.term.URIRef('http://www.semanticweb.org/ajay/ontologies/2022/3/RestaurantOnto#Kumar_Dev'), rdflib.term.URIRef('http://www.w3.org/1999/02/22-rdf-syntax-ns#type'), rdflib.term.URIRef('http://www.semanticweb.org/ajay/ontologies/2022/3/RestaurantOnto#Waiter'))\n",
            "(rdflib.term.URIRef('http://www.semanticweb.org/ajay/ontologies/2022/3/RestaurantOnto#Kumar_Dev'), rdflib.term.URIRef('http://www.w3.org/1999/02/22-rdf-syntax-ns#type'), rdflib.term.URIRef('http://www.w3.org/2002/07/owl#NamedIndividual'))\n",
            "(rdflib.term.URIRef('http://www.semanticweb.org/ajay/ontologies/2022/3/RestaurantOnto#D100001'), rdflib.term.URIRef('http://www.w3.org/1999/02/22-rdf-syntax-ns#type'), rdflib.term.URIRef('http://www.semanticweb.org/ajay/ontologies/2022/3/RestaurantOnto#Order'))\n",
            "(rdflib.term.URIRef('http://www.semanticweb.org/ajay/ontologies/2022/3/RestaurantOnto#D100001'), rdflib.term.URIRef('http://www.w3.org/1999/02/22-rdf-syntax-ns#type'), rdflib.term.URIRef('http://www.w3.org/2002/07/owl#NamedIndividual'))\n",
            "(rdflib.term.URIRef('http://www.semanticweb.org/ajay/ontologies/2022/3/RestaurantOnto#D100002'), rdflib.term.URIRef('http://www.w3.org/1999/02/22-rdf-syntax-ns#type'), rdflib.term.URIRef('http://www.semanticweb.org/ajay/ontologies/2022/3/RestaurantOnto#Order'))\n",
            "(rdflib.term.URIRef('http://www.semanticweb.org/ajay/ontologies/2022/3/RestaurantOnto#D100002'), rdflib.term.URIRef('http://www.w3.org/1999/02/22-rdf-syntax-ns#type'), rdflib.term.URIRef('http://www.w3.org/2002/07/owl#NamedIndividual'))\n",
            "(rdflib.term.URIRef('http://www.semanticweb.org/ajay/ontologies/2022/3/RestaurantOnto#D100003'), rdflib.term.URIRef('http://www.w3.org/1999/02/22-rdf-syntax-ns#type'), rdflib.term.URIRef('http://www.semanticweb.org/ajay/ontologies/2022/3/RestaurantOnto#Order'))\n",
            "(rdflib.term.URIRef('http://www.semanticweb.org/ajay/ontologies/2022/3/RestaurantOnto#D100003'), rdflib.term.URIRef('http://www.w3.org/1999/02/22-rdf-syntax-ns#type'), rdflib.term.URIRef('http://www.w3.org/2002/07/owl#NamedIndividual'))\n",
            "(rdflib.term.URIRef('http://www.semanticweb.org/ajay/ontologies/2022/3/RestaurantOnto#D100004'), rdflib.term.URIRef('http://www.w3.org/1999/02/22-rdf-syntax-ns#type'), rdflib.term.URIRef('http://www.semanticweb.org/ajay/ontologies/2022/3/RestaurantOnto#Order'))\n",
            "(rdflib.term.URIRef('http://www.semanticweb.org/ajay/ontologies/2022/3/RestaurantOnto#D100004'), rdflib.term.URIRef('http://www.w3.org/1999/02/22-rdf-syntax-ns#type'), rdflib.term.URIRef('http://www.w3.org/2002/07/owl#NamedIndividual'))\n",
            "(rdflib.term.URIRef('http://www.semanticweb.org/ajay/ontologies/2022/3/RestaurantOnto#D100005'), rdflib.term.URIRef('http://www.w3.org/1999/02/22-rdf-syntax-ns#type'), rdflib.term.URIRef('http://www.semanticweb.org/ajay/ontologies/2022/3/RestaurantOnto#Order'))\n",
            "(rdflib.term.URIRef('http://www.semanticweb.org/ajay/ontologies/2022/3/RestaurantOnto#D100005'), rdflib.term.URIRef('http://www.w3.org/1999/02/22-rdf-syntax-ns#type'), rdflib.term.URIRef('http://www.w3.org/2002/07/owl#NamedIndividual'))\n",
            "(rdflib.term.URIRef('http://www.semanticweb.org/ajay/ontologies/2022/3/RestaurantOnto#D100006'), rdflib.term.URIRef('http://www.w3.org/1999/02/22-rdf-syntax-ns#type'), rdflib.term.URIRef('http://www.semanticweb.org/ajay/ontologies/2022/3/RestaurantOnto#Order'))\n",
            "(rdflib.term.URIRef('http://www.semanticweb.org/ajay/ontologies/2022/3/RestaurantOnto#D100006'), rdflib.term.URIRef('http://www.w3.org/1999/02/22-rdf-syntax-ns#type'), rdflib.term.URIRef('http://www.w3.org/2002/07/owl#NamedIndividual'))\n",
            "(rdflib.term.URIRef('http://www.semanticweb.org/ajay/ontologies/2022/3/RestaurantOnto#D100007'), rdflib.term.URIRef('http://www.w3.org/1999/02/22-rdf-syntax-ns#type'), rdflib.term.URIRef('http://www.semanticweb.org/ajay/ontologies/2022/3/RestaurantOnto#Order'))\n",
            "(rdflib.term.URIRef('http://www.semanticweb.org/ajay/ontologies/2022/3/RestaurantOnto#D100007'), rdflib.term.URIRef('http://www.w3.org/1999/02/22-rdf-syntax-ns#type'), rdflib.term.URIRef('http://www.w3.org/2002/07/owl#NamedIndividual'))\n",
            "(rdflib.term.URIRef('http://www.semanticweb.org/ajay/ontologies/2022/3/RestaurantOnto#D100008'), rdflib.term.URIRef('http://www.w3.org/1999/02/22-rdf-syntax-ns#type'), rdflib.term.URIRef('http://www.semanticweb.org/ajay/ontologies/2022/3/RestaurantOnto#Order'))\n",
            "(rdflib.term.URIRef('http://www.semanticweb.org/ajay/ontologies/2022/3/RestaurantOnto#D100008'), rdflib.term.URIRef('http://www.w3.org/1999/02/22-rdf-syntax-ns#type'), rdflib.term.URIRef('http://www.w3.org/2002/07/owl#NamedIndividual'))\n",
            "(rdflib.term.URIRef('http://www.semanticweb.org/ajay/ontologies/2022/3/RestaurantOnto#D100009'), rdflib.term.URIRef('http://www.w3.org/1999/02/22-rdf-syntax-ns#type'), rdflib.term.URIRef('http://www.semanticweb.org/ajay/ontologies/2022/3/RestaurantOnto#Order'))\n",
            "(rdflib.term.URIRef('http://www.semanticweb.org/ajay/ontologies/2022/3/RestaurantOnto#D100009'), rdflib.term.URIRef('http://www.w3.org/1999/02/22-rdf-syntax-ns#type'), rdflib.term.URIRef('http://www.w3.org/2002/07/owl#NamedIndividual'))\n",
            "(rdflib.term.URIRef('http://www.semanticweb.org/ajay/ontologies/2022/3/RestaurantOnto#D100010'), rdflib.term.URIRef('http://www.w3.org/1999/02/22-rdf-syntax-ns#type'), rdflib.term.URIRef('http://www.semanticweb.org/ajay/ontologies/2022/3/RestaurantOnto#Order'))\n",
            "(rdflib.term.URIRef('http://www.semanticweb.org/ajay/ontologies/2022/3/RestaurantOnto#D100010'), rdflib.term.URIRef('http://www.w3.org/1999/02/22-rdf-syntax-ns#type'), rdflib.term.URIRef('http://www.w3.org/2002/07/owl#NamedIndividual'))\n",
            "(rdflib.term.URIRef('http://www.semanticweb.org/ajay/ontologies/2022/3/RestaurantOnto#D100011'), rdflib.term.URIRef('http://www.w3.org/1999/02/22-rdf-syntax-ns#type'), rdflib.term.URIRef('http://www.semanticweb.org/ajay/ontologies/2022/3/RestaurantOnto#Order'))\n",
            "(rdflib.term.URIRef('http://www.semanticweb.org/ajay/ontologies/2022/3/RestaurantOnto#D100011'), rdflib.term.URIRef('http://www.w3.org/1999/02/22-rdf-syntax-ns#type'), rdflib.term.URIRef('http://www.w3.org/2002/07/owl#NamedIndividual'))\n",
            "(rdflib.term.URIRef('http://www.semanticweb.org/ajay/ontologies/2022/3/RestaurantOnto#D100012'), rdflib.term.URIRef('http://www.w3.org/1999/02/22-rdf-syntax-ns#type'), rdflib.term.URIRef('http://www.semanticweb.org/ajay/ontologies/2022/3/RestaurantOnto#Order'))\n",
            "(rdflib.term.URIRef('http://www.semanticweb.org/ajay/ontologies/2022/3/RestaurantOnto#D100012'), rdflib.term.URIRef('http://www.w3.org/1999/02/22-rdf-syntax-ns#type'), rdflib.term.URIRef('http://www.w3.org/2002/07/owl#NamedIndividual'))\n",
            "(rdflib.term.URIRef('http://www.semanticweb.org/ajay/ontologies/2022/3/RestaurantOnto#D100013'), rdflib.term.URIRef('http://www.w3.org/1999/02/22-rdf-syntax-ns#type'), rdflib.term.URIRef('http://www.semanticweb.org/ajay/ontologies/2022/3/RestaurantOnto#Order'))\n",
            "(rdflib.term.URIRef('http://www.semanticweb.org/ajay/ontologies/2022/3/RestaurantOnto#D100013'), rdflib.term.URIRef('http://www.w3.org/1999/02/22-rdf-syntax-ns#type'), rdflib.term.URIRef('http://www.w3.org/2002/07/owl#NamedIndividual'))\n",
            "(rdflib.term.URIRef('http://www.semanticweb.org/ajay/ontologies/2022/3/RestaurantOnto#D100014'), rdflib.term.URIRef('http://www.w3.org/1999/02/22-rdf-syntax-ns#type'), rdflib.term.URIRef('http://www.semanticweb.org/ajay/ontologies/2022/3/RestaurantOnto#Order'))\n",
            "(rdflib.term.URIRef('http://www.semanticweb.org/ajay/ontologies/2022/3/RestaurantOnto#D100014'), rdflib.term.URIRef('http://www.w3.org/1999/02/22-rdf-syntax-ns#type'), rdflib.term.URIRef('http://www.w3.org/2002/07/owl#NamedIndividual'))\n",
            "(rdflib.term.URIRef('http://www.semanticweb.org/ajay/ontologies/2022/3/RestaurantOnto#D100015'), rdflib.term.URIRef('http://www.w3.org/1999/02/22-rdf-syntax-ns#type'), rdflib.term.URIRef('http://www.semanticweb.org/ajay/ontologies/2022/3/RestaurantOnto#Order'))\n",
            "(rdflib.term.URIRef('http://www.semanticweb.org/ajay/ontologies/2022/3/RestaurantOnto#D100015'), rdflib.term.URIRef('http://www.w3.org/1999/02/22-rdf-syntax-ns#type'), rdflib.term.URIRef('http://www.w3.org/2002/07/owl#NamedIndividual'))\n",
            "(rdflib.term.URIRef('http://www.semanticweb.org/ajay/ontologies/2022/3/RestaurantOnto#D100016'), rdflib.term.URIRef('http://www.w3.org/1999/02/22-rdf-syntax-ns#type'), rdflib.term.URIRef('http://www.semanticweb.org/ajay/ontologies/2022/3/RestaurantOnto#Order'))\n",
            "(rdflib.term.URIRef('http://www.semanticweb.org/ajay/ontologies/2022/3/RestaurantOnto#D100016'), rdflib.term.URIRef('http://www.w3.org/1999/02/22-rdf-syntax-ns#type'), rdflib.term.URIRef('http://www.w3.org/2002/07/owl#NamedIndividual'))\n",
            "(rdflib.term.URIRef('http://www.semanticweb.org/ajay/ontologies/2022/3/RestaurantOnto#D100017'), rdflib.term.URIRef('http://www.w3.org/1999/02/22-rdf-syntax-ns#type'), rdflib.term.URIRef('http://www.semanticweb.org/ajay/ontologies/2022/3/RestaurantOnto#Order'))\n",
            "(rdflib.term.URIRef('http://www.semanticweb.org/ajay/ontologies/2022/3/RestaurantOnto#D100017'), rdflib.term.URIRef('http://www.w3.org/1999/02/22-rdf-syntax-ns#type'), rdflib.term.URIRef('http://www.w3.org/2002/07/owl#NamedIndividual'))\n",
            "(rdflib.term.URIRef('http://www.semanticweb.org/ajay/ontologies/2022/3/RestaurantOnto#D100018'), rdflib.term.URIRef('http://www.w3.org/1999/02/22-rdf-syntax-ns#type'), rdflib.term.URIRef('http://www.semanticweb.org/ajay/ontologies/2022/3/RestaurantOnto#Order'))\n",
            "(rdflib.term.URIRef('http://www.semanticweb.org/ajay/ontologies/2022/3/RestaurantOnto#D100018'), rdflib.term.URIRef('http://www.w3.org/1999/02/22-rdf-syntax-ns#type'), rdflib.term.URIRef('http://www.w3.org/2002/07/owl#NamedIndividual'))\n",
            "(rdflib.term.URIRef('http://www.semanticweb.org/ajay/ontologies/2022/3/RestaurantOnto#D100019'), rdflib.term.URIRef('http://www.w3.org/1999/02/22-rdf-syntax-ns#type'), rdflib.term.URIRef('http://www.semanticweb.org/ajay/ontologies/2022/3/RestaurantOnto#Order'))\n",
            "(rdflib.term.URIRef('http://www.semanticweb.org/ajay/ontologies/2022/3/RestaurantOnto#D100019'), rdflib.term.URIRef('http://www.w3.org/1999/02/22-rdf-syntax-ns#type'), rdflib.term.URIRef('http://www.w3.org/2002/07/owl#NamedIndividual'))\n",
            "(rdflib.term.URIRef('http://www.semanticweb.org/ajay/ontologies/2022/3/RestaurantOnto#D100020'), rdflib.term.URIRef('http://www.w3.org/1999/02/22-rdf-syntax-ns#type'), rdflib.term.URIRef('http://www.semanticweb.org/ajay/ontologies/2022/3/RestaurantOnto#Order'))\n",
            "(rdflib.term.URIRef('http://www.semanticweb.org/ajay/ontologies/2022/3/RestaurantOnto#D100020'), rdflib.term.URIRef('http://www.w3.org/1999/02/22-rdf-syntax-ns#type'), rdflib.term.URIRef('http://www.w3.org/2002/07/owl#NamedIndividual'))\n",
            "(rdflib.term.URIRef('http://www.semanticweb.org/ajay/ontologies/2022/3/RestaurantOnto#D100021'), rdflib.term.URIRef('http://www.w3.org/1999/02/22-rdf-syntax-ns#type'), rdflib.term.URIRef('http://www.semanticweb.org/ajay/ontologies/2022/3/RestaurantOnto#Order'))\n",
            "(rdflib.term.URIRef('http://www.semanticweb.org/ajay/ontologies/2022/3/RestaurantOnto#D100021'), rdflib.term.URIRef('http://www.w3.org/1999/02/22-rdf-syntax-ns#type'), rdflib.term.URIRef('http://www.w3.org/2002/07/owl#NamedIndividual'))\n",
            "(rdflib.term.URIRef('http://www.semanticweb.org/ajay/ontologies/2022/3/RestaurantOnto#D100022'), rdflib.term.URIRef('http://www.w3.org/1999/02/22-rdf-syntax-ns#type'), rdflib.term.URIRef('http://www.semanticweb.org/ajay/ontologies/2022/3/RestaurantOnto#Order'))\n",
            "(rdflib.term.URIRef('http://www.semanticweb.org/ajay/ontologies/2022/3/RestaurantOnto#D100022'), rdflib.term.URIRef('http://www.w3.org/1999/02/22-rdf-syntax-ns#type'), rdflib.term.URIRef('http://www.w3.org/2002/07/owl#NamedIndividual'))\n",
            "(rdflib.term.URIRef('http://www.semanticweb.org/ajay/ontologies/2022/3/RestaurantOnto#D100023'), rdflib.term.URIRef('http://www.w3.org/1999/02/22-rdf-syntax-ns#type'), rdflib.term.URIRef('http://www.semanticweb.org/ajay/ontologies/2022/3/RestaurantOnto#Order'))\n",
            "(rdflib.term.URIRef('http://www.semanticweb.org/ajay/ontologies/2022/3/RestaurantOnto#D100023'), rdflib.term.URIRef('http://www.w3.org/1999/02/22-rdf-syntax-ns#type'), rdflib.term.URIRef('http://www.w3.org/2002/07/owl#NamedIndividual'))\n",
            "(rdflib.term.URIRef('http://www.semanticweb.org/ajay/ontologies/2022/3/RestaurantOnto#D100024'), rdflib.term.URIRef('http://www.w3.org/1999/02/22-rdf-syntax-ns#type'), rdflib.term.URIRef('http://www.semanticweb.org/ajay/ontologies/2022/3/RestaurantOnto#Order'))\n",
            "(rdflib.term.URIRef('http://www.semanticweb.org/ajay/ontologies/2022/3/RestaurantOnto#D100024'), rdflib.term.URIRef('http://www.w3.org/1999/02/22-rdf-syntax-ns#type'), rdflib.term.URIRef('http://www.w3.org/2002/07/owl#NamedIndividual'))\n",
            "(rdflib.term.URIRef('http://www.semanticweb.org/ajay/ontologies/2022/3/RestaurantOnto#D100025'), rdflib.term.URIRef('http://www.w3.org/1999/02/22-rdf-syntax-ns#type'), rdflib.term.URIRef('http://www.semanticweb.org/ajay/ontologies/2022/3/RestaurantOnto#Order'))\n",
            "(rdflib.term.URIRef('http://www.semanticweb.org/ajay/ontologies/2022/3/RestaurantOnto#D100025'), rdflib.term.URIRef('http://www.w3.org/1999/02/22-rdf-syntax-ns#type'), rdflib.term.URIRef('http://www.w3.org/2002/07/owl#NamedIndividual'))\n",
            "(rdflib.term.URIRef('http://www.semanticweb.org/ajay/ontologies/2022/3/RestaurantOnto#D100026'), rdflib.term.URIRef('http://www.w3.org/1999/02/22-rdf-syntax-ns#type'), rdflib.term.URIRef('http://www.semanticweb.org/ajay/ontologies/2022/3/RestaurantOnto#Order'))\n",
            "(rdflib.term.URIRef('http://www.semanticweb.org/ajay/ontologies/2022/3/RestaurantOnto#D100026'), rdflib.term.URIRef('http://www.w3.org/1999/02/22-rdf-syntax-ns#type'), rdflib.term.URIRef('http://www.w3.org/2002/07/owl#NamedIndividual'))\n",
            "(rdflib.term.URIRef('http://www.semanticweb.org/ajay/ontologies/2022/3/RestaurantOnto#D100027'), rdflib.term.URIRef('http://www.w3.org/1999/02/22-rdf-syntax-ns#type'), rdflib.term.URIRef('http://www.semanticweb.org/ajay/ontologies/2022/3/RestaurantOnto#Order'))\n",
            "(rdflib.term.URIRef('http://www.semanticweb.org/ajay/ontologies/2022/3/RestaurantOnto#D100027'), rdflib.term.URIRef('http://www.w3.org/1999/02/22-rdf-syntax-ns#type'), rdflib.term.URIRef('http://www.w3.org/2002/07/owl#NamedIndividual'))\n",
            "(rdflib.term.URIRef('http://www.semanticweb.org/ajay/ontologies/2022/3/RestaurantOnto#D100028'), rdflib.term.URIRef('http://www.w3.org/1999/02/22-rdf-syntax-ns#type'), rdflib.term.URIRef('http://www.semanticweb.org/ajay/ontologies/2022/3/RestaurantOnto#Order'))\n",
            "(rdflib.term.URIRef('http://www.semanticweb.org/ajay/ontologies/2022/3/RestaurantOnto#D100028'), rdflib.term.URIRef('http://www.w3.org/1999/02/22-rdf-syntax-ns#type'), rdflib.term.URIRef('http://www.w3.org/2002/07/owl#NamedIndividual'))\n",
            "(rdflib.term.URIRef('http://www.semanticweb.org/ajay/ontologies/2022/3/RestaurantOnto#D100029'), rdflib.term.URIRef('http://www.w3.org/1999/02/22-rdf-syntax-ns#type'), rdflib.term.URIRef('http://www.semanticweb.org/ajay/ontologies/2022/3/RestaurantOnto#Order'))\n",
            "(rdflib.term.URIRef('http://www.semanticweb.org/ajay/ontologies/2022/3/RestaurantOnto#D100029'), rdflib.term.URIRef('http://www.w3.org/1999/02/22-rdf-syntax-ns#type'), rdflib.term.URIRef('http://www.w3.org/2002/07/owl#NamedIndividual'))\n",
            "(rdflib.term.URIRef('http://www.semanticweb.org/ajay/ontologies/2022/3/RestaurantOnto#D100030'), rdflib.term.URIRef('http://www.w3.org/1999/02/22-rdf-syntax-ns#type'), rdflib.term.URIRef('http://www.semanticweb.org/ajay/ontologies/2022/3/RestaurantOnto#Order'))\n",
            "(rdflib.term.URIRef('http://www.semanticweb.org/ajay/ontologies/2022/3/RestaurantOnto#D100030'), rdflib.term.URIRef('http://www.w3.org/1999/02/22-rdf-syntax-ns#type'), rdflib.term.URIRef('http://www.w3.org/2002/07/owl#NamedIndividual'))\n",
            "(rdflib.term.URIRef('http://www.semanticweb.org/ajay/ontologies/2022/3/RestaurantOnto#D100031'), rdflib.term.URIRef('http://www.w3.org/1999/02/22-rdf-syntax-ns#type'), rdflib.term.URIRef('http://www.semanticweb.org/ajay/ontologies/2022/3/RestaurantOnto#Order'))\n",
            "(rdflib.term.URIRef('http://www.semanticweb.org/ajay/ontologies/2022/3/RestaurantOnto#D100031'), rdflib.term.URIRef('http://www.w3.org/1999/02/22-rdf-syntax-ns#type'), rdflib.term.URIRef('http://www.w3.org/2002/07/owl#NamedIndividual'))\n",
            "(rdflib.term.URIRef('http://www.semanticweb.org/ajay/ontologies/2022/3/RestaurantOnto#D100032'), rdflib.term.URIRef('http://www.w3.org/1999/02/22-rdf-syntax-ns#type'), rdflib.term.URIRef('http://www.semanticweb.org/ajay/ontologies/2022/3/RestaurantOnto#Order'))\n",
            "(rdflib.term.URIRef('http://www.semanticweb.org/ajay/ontologies/2022/3/RestaurantOnto#D100032'), rdflib.term.URIRef('http://www.w3.org/1999/02/22-rdf-syntax-ns#type'), rdflib.term.URIRef('http://www.w3.org/2002/07/owl#NamedIndividual'))\n",
            "(rdflib.term.URIRef('http://www.semanticweb.org/ajay/ontologies/2022/3/RestaurantOnto#D100033'), rdflib.term.URIRef('http://www.w3.org/1999/02/22-rdf-syntax-ns#type'), rdflib.term.URIRef('http://www.semanticweb.org/ajay/ontologies/2022/3/RestaurantOnto#Order'))\n",
            "(rdflib.term.URIRef('http://www.semanticweb.org/ajay/ontologies/2022/3/RestaurantOnto#D100033'), rdflib.term.URIRef('http://www.w3.org/1999/02/22-rdf-syntax-ns#type'), rdflib.term.URIRef('http://www.w3.org/2002/07/owl#NamedIndividual'))\n",
            "(rdflib.term.URIRef('http://www.semanticweb.org/ajay/ontologies/2022/3/RestaurantOnto#D100034'), rdflib.term.URIRef('http://www.w3.org/1999/02/22-rdf-syntax-ns#type'), rdflib.term.URIRef('http://www.semanticweb.org/ajay/ontologies/2022/3/RestaurantOnto#Order'))\n",
            "(rdflib.term.URIRef('http://www.semanticweb.org/ajay/ontologies/2022/3/RestaurantOnto#D100034'), rdflib.term.URIRef('http://www.w3.org/1999/02/22-rdf-syntax-ns#type'), rdflib.term.URIRef('http://www.w3.org/2002/07/owl#NamedIndividual'))\n",
            "(rdflib.term.URIRef('http://www.semanticweb.org/ajay/ontologies/2022/3/RestaurantOnto#D100035'), rdflib.term.URIRef('http://www.w3.org/1999/02/22-rdf-syntax-ns#type'), rdflib.term.URIRef('http://www.semanticweb.org/ajay/ontologies/2022/3/RestaurantOnto#Order'))\n",
            "(rdflib.term.URIRef('http://www.semanticweb.org/ajay/ontologies/2022/3/RestaurantOnto#D100035'), rdflib.term.URIRef('http://www.w3.org/1999/02/22-rdf-syntax-ns#type'), rdflib.term.URIRef('http://www.w3.org/2002/07/owl#NamedIndividual'))\n",
            "(rdflib.term.URIRef('http://www.semanticweb.org/ajay/ontologies/2022/3/RestaurantOnto#Chilli_Paneer'), rdflib.term.URIRef('http://www.w3.org/1999/02/22-rdf-syntax-ns#type'), rdflib.term.URIRef('http://www.semanticweb.org/ajay/ontologies/2022/3/RestaurantOnto#Food'))\n",
            "(rdflib.term.URIRef('http://www.semanticweb.org/ajay/ontologies/2022/3/RestaurantOnto#Chilli_Paneer'), rdflib.term.URIRef('http://www.w3.org/1999/02/22-rdf-syntax-ns#type'), rdflib.term.URIRef('http://www.w3.org/2002/07/owl#NamedIndividual'))\n",
            "(rdflib.term.URIRef('http://www.semanticweb.org/ajay/ontologies/2022/3/RestaurantOnto#Paneer_65'), rdflib.term.URIRef('http://www.w3.org/1999/02/22-rdf-syntax-ns#type'), rdflib.term.URIRef('http://www.semanticweb.org/ajay/ontologies/2022/3/RestaurantOnto#Food'))\n",
            "(rdflib.term.URIRef('http://www.semanticweb.org/ajay/ontologies/2022/3/RestaurantOnto#Paneer_65'), rdflib.term.URIRef('http://www.w3.org/1999/02/22-rdf-syntax-ns#type'), rdflib.term.URIRef('http://www.w3.org/2002/07/owl#NamedIndividual'))\n",
            "(rdflib.term.URIRef('http://www.semanticweb.org/ajay/ontologies/2022/3/RestaurantOnto#Veg_Manchurian'), rdflib.term.URIRef('http://www.w3.org/1999/02/22-rdf-syntax-ns#type'), rdflib.term.URIRef('http://www.semanticweb.org/ajay/ontologies/2022/3/RestaurantOnto#Food'))\n",
            "(rdflib.term.URIRef('http://www.semanticweb.org/ajay/ontologies/2022/3/RestaurantOnto#Veg_Manchurian'), rdflib.term.URIRef('http://www.w3.org/1999/02/22-rdf-syntax-ns#type'), rdflib.term.URIRef('http://www.w3.org/2002/07/owl#NamedIndividual'))\n",
            "(rdflib.term.URIRef('http://www.semanticweb.org/ajay/ontologies/2022/3/RestaurantOnto#Veg_Lollipop'), rdflib.term.URIRef('http://www.w3.org/1999/02/22-rdf-syntax-ns#type'), rdflib.term.URIRef('http://www.semanticweb.org/ajay/ontologies/2022/3/RestaurantOnto#Food'))\n",
            "(rdflib.term.URIRef('http://www.semanticweb.org/ajay/ontologies/2022/3/RestaurantOnto#Veg_Lollipop'), rdflib.term.URIRef('http://www.w3.org/1999/02/22-rdf-syntax-ns#type'), rdflib.term.URIRef('http://www.w3.org/2002/07/owl#NamedIndividual'))\n",
            "(rdflib.term.URIRef('http://www.semanticweb.org/ajay/ontologies/2022/3/RestaurantOnto#Chilli_Potato'), rdflib.term.URIRef('http://www.w3.org/1999/02/22-rdf-syntax-ns#type'), rdflib.term.URIRef('http://www.semanticweb.org/ajay/ontologies/2022/3/RestaurantOnto#Food'))\n",
            "(rdflib.term.URIRef('http://www.semanticweb.org/ajay/ontologies/2022/3/RestaurantOnto#Chilli_Potato'), rdflib.term.URIRef('http://www.w3.org/1999/02/22-rdf-syntax-ns#type'), rdflib.term.URIRef('http://www.w3.org/2002/07/owl#NamedIndividual'))\n",
            "(rdflib.term.URIRef('http://www.semanticweb.org/ajay/ontologies/2022/3/RestaurantOnto#Chicken_Manchurian'), rdflib.term.URIRef('http://www.w3.org/1999/02/22-rdf-syntax-ns#type'), rdflib.term.URIRef('http://www.semanticweb.org/ajay/ontologies/2022/3/RestaurantOnto#Food'))\n",
            "(rdflib.term.URIRef('http://www.semanticweb.org/ajay/ontologies/2022/3/RestaurantOnto#Chicken_Manchurian'), rdflib.term.URIRef('http://www.w3.org/1999/02/22-rdf-syntax-ns#type'), rdflib.term.URIRef('http://www.w3.org/2002/07/owl#NamedIndividual'))\n",
            "(rdflib.term.URIRef('http://www.semanticweb.org/ajay/ontologies/2022/3/RestaurantOnto#Gobi_Manchurian'), rdflib.term.URIRef('http://www.w3.org/1999/02/22-rdf-syntax-ns#type'), rdflib.term.URIRef('http://www.semanticweb.org/ajay/ontologies/2022/3/RestaurantOnto#Food'))\n",
            "(rdflib.term.URIRef('http://www.semanticweb.org/ajay/ontologies/2022/3/RestaurantOnto#Gobi_Manchurian'), rdflib.term.URIRef('http://www.w3.org/1999/02/22-rdf-syntax-ns#type'), rdflib.term.URIRef('http://www.w3.org/2002/07/owl#NamedIndividual'))\n",
            "(rdflib.term.URIRef('http://www.semanticweb.org/ajay/ontologies/2022/3/RestaurantOnto#Hydrabadi_Biryani'), rdflib.term.URIRef('http://www.w3.org/1999/02/22-rdf-syntax-ns#type'), rdflib.term.URIRef('http://www.semanticweb.org/ajay/ontologies/2022/3/RestaurantOnto#Food'))\n",
            "(rdflib.term.URIRef('http://www.semanticweb.org/ajay/ontologies/2022/3/RestaurantOnto#Hydrabadi_Biryani'), rdflib.term.URIRef('http://www.w3.org/1999/02/22-rdf-syntax-ns#type'), rdflib.term.URIRef('http://www.w3.org/2002/07/owl#NamedIndividual'))\n",
            "(rdflib.term.URIRef('http://www.semanticweb.org/ajay/ontologies/2022/3/RestaurantOnto#Paneer_Biryani'), rdflib.term.URIRef('http://www.w3.org/1999/02/22-rdf-syntax-ns#type'), rdflib.term.URIRef('http://www.semanticweb.org/ajay/ontologies/2022/3/RestaurantOnto#Food'))\n",
            "(rdflib.term.URIRef('http://www.semanticweb.org/ajay/ontologies/2022/3/RestaurantOnto#Paneer_Biryani'), rdflib.term.URIRef('http://www.w3.org/1999/02/22-rdf-syntax-ns#type'), rdflib.term.URIRef('http://www.w3.org/2002/07/owl#NamedIndividual'))\n",
            "(rdflib.term.URIRef('http://www.semanticweb.org/ajay/ontologies/2022/3/RestaurantOnto#Chicken_Biryani'), rdflib.term.URIRef('http://www.w3.org/1999/02/22-rdf-syntax-ns#type'), rdflib.term.URIRef('http://www.semanticweb.org/ajay/ontologies/2022/3/RestaurantOnto#Food'))\n",
            "(rdflib.term.URIRef('http://www.semanticweb.org/ajay/ontologies/2022/3/RestaurantOnto#Chicken_Biryani'), rdflib.term.URIRef('http://www.w3.org/1999/02/22-rdf-syntax-ns#type'), rdflib.term.URIRef('http://www.w3.org/2002/07/owl#NamedIndividual'))\n",
            "(rdflib.term.URIRef('http://www.semanticweb.org/ajay/ontologies/2022/3/RestaurantOnto#Kashmiri_Biryani'), rdflib.term.URIRef('http://www.w3.org/1999/02/22-rdf-syntax-ns#type'), rdflib.term.URIRef('http://www.semanticweb.org/ajay/ontologies/2022/3/RestaurantOnto#Food'))\n",
            "(rdflib.term.URIRef('http://www.semanticweb.org/ajay/ontologies/2022/3/RestaurantOnto#Kashmiri_Biryani'), rdflib.term.URIRef('http://www.w3.org/1999/02/22-rdf-syntax-ns#type'), rdflib.term.URIRef('http://www.w3.org/2002/07/owl#NamedIndividual'))\n",
            "(rdflib.term.URIRef('http://www.semanticweb.org/ajay/ontologies/2022/3/RestaurantOnto#Paneer_Tikka_Masala'), rdflib.term.URIRef('http://www.w3.org/1999/02/22-rdf-syntax-ns#type'), rdflib.term.URIRef('http://www.semanticweb.org/ajay/ontologies/2022/3/RestaurantOnto#Food'))\n",
            "(rdflib.term.URIRef('http://www.semanticweb.org/ajay/ontologies/2022/3/RestaurantOnto#Paneer_Tikka_Masala'), rdflib.term.URIRef('http://www.w3.org/1999/02/22-rdf-syntax-ns#type'), rdflib.term.URIRef('http://www.w3.org/2002/07/owl#NamedIndividual'))\n",
            "(rdflib.term.URIRef('http://www.semanticweb.org/ajay/ontologies/2022/3/RestaurantOnto#Butter_Paneer_Masala'), rdflib.term.URIRef('http://www.w3.org/1999/02/22-rdf-syntax-ns#type'), rdflib.term.URIRef('http://www.semanticweb.org/ajay/ontologies/2022/3/RestaurantOnto#Food'))\n",
            "(rdflib.term.URIRef('http://www.semanticweb.org/ajay/ontologies/2022/3/RestaurantOnto#Butter_Paneer_Masala'), rdflib.term.URIRef('http://www.w3.org/1999/02/22-rdf-syntax-ns#type'), rdflib.term.URIRef('http://www.w3.org/2002/07/owl#NamedIndividual'))\n",
            "(rdflib.term.URIRef('http://www.semanticweb.org/ajay/ontologies/2022/3/RestaurantOnto#Kadhai_Paneer'), rdflib.term.URIRef('http://www.w3.org/1999/02/22-rdf-syntax-ns#type'), rdflib.term.URIRef('http://www.semanticweb.org/ajay/ontologies/2022/3/RestaurantOnto#Food'))\n",
            "(rdflib.term.URIRef('http://www.semanticweb.org/ajay/ontologies/2022/3/RestaurantOnto#Kadhai_Paneer'), rdflib.term.URIRef('http://www.w3.org/1999/02/22-rdf-syntax-ns#type'), rdflib.term.URIRef('http://www.w3.org/2002/07/owl#NamedIndividual'))\n",
            "(rdflib.term.URIRef('http://www.semanticweb.org/ajay/ontologies/2022/3/RestaurantOnto#Kashmiri_Pulav'), rdflib.term.URIRef('http://www.w3.org/1999/02/22-rdf-syntax-ns#type'), rdflib.term.URIRef('http://www.semanticweb.org/ajay/ontologies/2022/3/RestaurantOnto#Food'))\n",
            "(rdflib.term.URIRef('http://www.semanticweb.org/ajay/ontologies/2022/3/RestaurantOnto#Kashmiri_Pulav'), rdflib.term.URIRef('http://www.w3.org/1999/02/22-rdf-syntax-ns#type'), rdflib.term.URIRef('http://www.w3.org/2002/07/owl#NamedIndividual'))\n",
            "(rdflib.term.URIRef('http://www.semanticweb.org/ajay/ontologies/2022/3/RestaurantOnto#Dal_Khichadi'), rdflib.term.URIRef('http://www.w3.org/1999/02/22-rdf-syntax-ns#type'), rdflib.term.URIRef('http://www.semanticweb.org/ajay/ontologies/2022/3/RestaurantOnto#Food'))\n",
            "(rdflib.term.URIRef('http://www.semanticweb.org/ajay/ontologies/2022/3/RestaurantOnto#Dal_Khichadi'), rdflib.term.URIRef('http://www.w3.org/1999/02/22-rdf-syntax-ns#type'), rdflib.term.URIRef('http://www.w3.org/2002/07/owl#NamedIndividual'))\n",
            "(rdflib.term.URIRef('http://www.semanticweb.org/ajay/ontologies/2022/3/RestaurantOnto#Gulab_Jamun'), rdflib.term.URIRef('http://www.w3.org/1999/02/22-rdf-syntax-ns#type'), rdflib.term.URIRef('http://www.semanticweb.org/ajay/ontologies/2022/3/RestaurantOnto#Food'))\n",
            "(rdflib.term.URIRef('http://www.semanticweb.org/ajay/ontologies/2022/3/RestaurantOnto#Gulab_Jamun'), rdflib.term.URIRef('http://www.w3.org/1999/02/22-rdf-syntax-ns#type'), rdflib.term.URIRef('http://www.w3.org/2002/07/owl#NamedIndividual'))\n",
            "(rdflib.term.URIRef('http://www.semanticweb.org/ajay/ontologies/2022/3/RestaurantOnto#Ice_Cream'), rdflib.term.URIRef('http://www.w3.org/1999/02/22-rdf-syntax-ns#type'), rdflib.term.URIRef('http://www.semanticweb.org/ajay/ontologies/2022/3/RestaurantOnto#Food'))\n",
            "(rdflib.term.URIRef('http://www.semanticweb.org/ajay/ontologies/2022/3/RestaurantOnto#Ice_Cream'), rdflib.term.URIRef('http://www.w3.org/1999/02/22-rdf-syntax-ns#type'), rdflib.term.URIRef('http://www.w3.org/2002/07/owl#NamedIndividual'))\n",
            "(rdflib.term.URIRef('http://www.semanticweb.org/ajay/ontologies/2022/3/RestaurantOnto#Brownie'), rdflib.term.URIRef('http://www.w3.org/1999/02/22-rdf-syntax-ns#type'), rdflib.term.URIRef('http://www.semanticweb.org/ajay/ontologies/2022/3/RestaurantOnto#Food'))\n",
            "(rdflib.term.URIRef('http://www.semanticweb.org/ajay/ontologies/2022/3/RestaurantOnto#Brownie'), rdflib.term.URIRef('http://www.w3.org/1999/02/22-rdf-syntax-ns#type'), rdflib.term.URIRef('http://www.w3.org/2002/07/owl#NamedIndividual'))\n",
            "(rdflib.term.URIRef('http://www.semanticweb.org/ajay/ontologies/2022/3/RestaurantOnto#Ras_Malai'), rdflib.term.URIRef('http://www.w3.org/1999/02/22-rdf-syntax-ns#type'), rdflib.term.URIRef('http://www.semanticweb.org/ajay/ontologies/2022/3/RestaurantOnto#Food'))\n",
            "(rdflib.term.URIRef('http://www.semanticweb.org/ajay/ontologies/2022/3/RestaurantOnto#Ras_Malai'), rdflib.term.URIRef('http://www.w3.org/1999/02/22-rdf-syntax-ns#type'), rdflib.term.URIRef('http://www.w3.org/2002/07/owl#NamedIndividual'))\n",
            "(rdflib.term.URIRef('http://www.semanticweb.org/ajay/ontologies/2022/3/RestaurantOnto#Thumps_Up'), rdflib.term.URIRef('http://www.w3.org/1999/02/22-rdf-syntax-ns#type'), rdflib.term.URIRef('http://www.semanticweb.org/ajay/ontologies/2022/3/RestaurantOnto#Beverage'))\n",
            "(rdflib.term.URIRef('http://www.semanticweb.org/ajay/ontologies/2022/3/RestaurantOnto#Thumps_Up'), rdflib.term.URIRef('http://www.w3.org/1999/02/22-rdf-syntax-ns#type'), rdflib.term.URIRef('http://www.w3.org/2002/07/owl#NamedIndividual'))\n",
            "(rdflib.term.URIRef('http://www.semanticweb.org/ajay/ontologies/2022/3/RestaurantOnto#Coke'), rdflib.term.URIRef('http://www.w3.org/1999/02/22-rdf-syntax-ns#type'), rdflib.term.URIRef('http://www.semanticweb.org/ajay/ontologies/2022/3/RestaurantOnto#Beverage'))\n",
            "(rdflib.term.URIRef('http://www.semanticweb.org/ajay/ontologies/2022/3/RestaurantOnto#Coke'), rdflib.term.URIRef('http://www.w3.org/1999/02/22-rdf-syntax-ns#type'), rdflib.term.URIRef('http://www.w3.org/2002/07/owl#NamedIndividual'))\n",
            "(rdflib.term.URIRef('http://www.semanticweb.org/ajay/ontologies/2022/3/RestaurantOnto#Chocolate_Shake'), rdflib.term.URIRef('http://www.w3.org/1999/02/22-rdf-syntax-ns#type'), rdflib.term.URIRef('http://www.semanticweb.org/ajay/ontologies/2022/3/RestaurantOnto#Beverage'))\n",
            "(rdflib.term.URIRef('http://www.semanticweb.org/ajay/ontologies/2022/3/RestaurantOnto#Chocolate_Shake'), rdflib.term.URIRef('http://www.w3.org/1999/02/22-rdf-syntax-ns#type'), rdflib.term.URIRef('http://www.w3.org/2002/07/owl#NamedIndividual'))\n",
            "(rdflib.term.URIRef('http://www.semanticweb.org/ajay/ontologies/2022/3/RestaurantOnto#Hot_Chocolate'), rdflib.term.URIRef('http://www.w3.org/1999/02/22-rdf-syntax-ns#type'), rdflib.term.URIRef('http://www.semanticweb.org/ajay/ontologies/2022/3/RestaurantOnto#Beverage'))\n",
            "(rdflib.term.URIRef('http://www.semanticweb.org/ajay/ontologies/2022/3/RestaurantOnto#Hot_Chocolate'), rdflib.term.URIRef('http://www.w3.org/1999/02/22-rdf-syntax-ns#type'), rdflib.term.URIRef('http://www.w3.org/2002/07/owl#NamedIndividual'))\n",
            "(rdflib.term.URIRef('http://www.semanticweb.org/ajay/ontologies/2022/3/RestaurantOnto#Milk'), rdflib.term.URIRef('http://www.w3.org/1999/02/22-rdf-syntax-ns#type'), rdflib.term.URIRef('http://www.semanticweb.org/ajay/ontologies/2022/3/RestaurantOnto#Beverage'))\n",
            "(rdflib.term.URIRef('http://www.semanticweb.org/ajay/ontologies/2022/3/RestaurantOnto#Milk'), rdflib.term.URIRef('http://www.w3.org/1999/02/22-rdf-syntax-ns#type'), rdflib.term.URIRef('http://www.w3.org/2002/07/owl#NamedIndividual'))\n",
            "(rdflib.term.URIRef('http://www.semanticweb.org/ajay/ontologies/2022/3/RestaurantOnto#Strawberry_Shake'), rdflib.term.URIRef('http://www.w3.org/1999/02/22-rdf-syntax-ns#type'), rdflib.term.URIRef('http://www.semanticweb.org/ajay/ontologies/2022/3/RestaurantOnto#Beverage'))\n",
            "(rdflib.term.URIRef('http://www.semanticweb.org/ajay/ontologies/2022/3/RestaurantOnto#Strawberry_Shake'), rdflib.term.URIRef('http://www.w3.org/1999/02/22-rdf-syntax-ns#type'), rdflib.term.URIRef('http://www.w3.org/2002/07/owl#NamedIndividual'))\n"
          ]
        }
      ],
      "source": [
        "for triplet in triplets:\n",
        "  print(triplet)\n"
      ],
      "id": "Ei6VDXczkFXY"
    },
    {
      "cell_type": "code",
      "execution_count": 11,
      "metadata": {
        "id": "5IYX9_KhkFXY",
        "colab": {
          "base_uri": "https://localhost:8080/"
        },
        "outputId": "830e9f06-4058-4141-eecc-a981d4221c99"
      },
      "outputs": [
        {
          "output_type": "stream",
          "name": "stdout",
          "text": [
            "(rdflib.term.URIRef('http://www.semanticweb.org/ajay/ontologies/2022/3/RestaurantOnto#Rakul'), rdflib.term.URIRef('http://www.semanticweb.org/ajay/ontologies/2022/3/RestaurantOnto#takes'), rdflib.term.URIRef('http://www.semanticweb.org/ajay/ontologies/2022/3/RestaurantOnto#D100001'))\n",
            "(rdflib.term.URIRef('http://www.semanticweb.org/ajay/ontologies/2022/3/RestaurantOnto#Rakul'), rdflib.term.URIRef('http://www.semanticweb.org/ajay/ontologies/2022/3/RestaurantOnto#takes'), rdflib.term.URIRef('http://www.semanticweb.org/ajay/ontologies/2022/3/RestaurantOnto#D100030'))\n",
            "(rdflib.term.URIRef('http://www.semanticweb.org/ajay/ontologies/2022/3/RestaurantOnto#Rakul'), rdflib.term.URIRef('http://www.semanticweb.org/ajay/ontologies/2022/3/RestaurantOnto#takes'), rdflib.term.URIRef('http://www.semanticweb.org/ajay/ontologies/2022/3/RestaurantOnto#D100032'))\n",
            "(rdflib.term.URIRef('http://www.semanticweb.org/ajay/ontologies/2022/3/RestaurantOnto#Rahul_Sharma'), rdflib.term.URIRef('http://www.semanticweb.org/ajay/ontologies/2022/3/RestaurantOnto#takes'), rdflib.term.URIRef('http://www.semanticweb.org/ajay/ontologies/2022/3/RestaurantOnto#D100002'))\n",
            "(rdflib.term.URIRef('http://www.semanticweb.org/ajay/ontologies/2022/3/RestaurantOnto#Rahul_Sharma'), rdflib.term.URIRef('http://www.semanticweb.org/ajay/ontologies/2022/3/RestaurantOnto#takes'), rdflib.term.URIRef('http://www.semanticweb.org/ajay/ontologies/2022/3/RestaurantOnto#D100033'))\n",
            "(rdflib.term.URIRef('http://www.semanticweb.org/ajay/ontologies/2022/3/RestaurantOnto#Ramesh_Dev'), rdflib.term.URIRef('http://www.semanticweb.org/ajay/ontologies/2022/3/RestaurantOnto#takes'), rdflib.term.URIRef('http://www.semanticweb.org/ajay/ontologies/2022/3/RestaurantOnto#D100003'))\n",
            "(rdflib.term.URIRef('http://www.semanticweb.org/ajay/ontologies/2022/3/RestaurantOnto#Shridhar_Tambe'), rdflib.term.URIRef('http://www.semanticweb.org/ajay/ontologies/2022/3/RestaurantOnto#takes'), rdflib.term.URIRef('http://www.semanticweb.org/ajay/ontologies/2022/3/RestaurantOnto#D100004'))\n",
            "(rdflib.term.URIRef('http://www.semanticweb.org/ajay/ontologies/2022/3/RestaurantOnto#Shridhar_Tambe'), rdflib.term.URIRef('http://www.semanticweb.org/ajay/ontologies/2022/3/RestaurantOnto#takes'), rdflib.term.URIRef('http://www.semanticweb.org/ajay/ontologies/2022/3/RestaurantOnto#D100005'))\n",
            "(rdflib.term.URIRef('http://www.semanticweb.org/ajay/ontologies/2022/3/RestaurantOnto#Pravin_Tambe'), rdflib.term.URIRef('http://www.semanticweb.org/ajay/ontologies/2022/3/RestaurantOnto#takes'), rdflib.term.URIRef('http://www.semanticweb.org/ajay/ontologies/2022/3/RestaurantOnto#D100006'))\n",
            "(rdflib.term.URIRef('http://www.semanticweb.org/ajay/ontologies/2022/3/RestaurantOnto#Pravin_Tambe'), rdflib.term.URIRef('http://www.semanticweb.org/ajay/ontologies/2022/3/RestaurantOnto#takes'), rdflib.term.URIRef('http://www.semanticweb.org/ajay/ontologies/2022/3/RestaurantOnto#D100007'))\n",
            "(rdflib.term.URIRef('http://www.semanticweb.org/ajay/ontologies/2022/3/RestaurantOnto#Manoj_Kumar'), rdflib.term.URIRef('http://www.semanticweb.org/ajay/ontologies/2022/3/RestaurantOnto#takes'), rdflib.term.URIRef('http://www.semanticweb.org/ajay/ontologies/2022/3/RestaurantOnto#D100009'))\n",
            "(rdflib.term.URIRef('http://www.semanticweb.org/ajay/ontologies/2022/3/RestaurantOnto#Manoj_Kumar'), rdflib.term.URIRef('http://www.semanticweb.org/ajay/ontologies/2022/3/RestaurantOnto#takes'), rdflib.term.URIRef('http://www.semanticweb.org/ajay/ontologies/2022/3/RestaurantOnto#D100012'))\n",
            "(rdflib.term.URIRef('http://www.semanticweb.org/ajay/ontologies/2022/3/RestaurantOnto#Shridhar_Gupta'), rdflib.term.URIRef('http://www.semanticweb.org/ajay/ontologies/2022/3/RestaurantOnto#takes'), rdflib.term.URIRef('http://www.semanticweb.org/ajay/ontologies/2022/3/RestaurantOnto#D100011'))\n",
            "(rdflib.term.URIRef('http://www.semanticweb.org/ajay/ontologies/2022/3/RestaurantOnto#Manoj_Tambe'), rdflib.term.URIRef('http://www.semanticweb.org/ajay/ontologies/2022/3/RestaurantOnto#takes'), rdflib.term.URIRef('http://www.semanticweb.org/ajay/ontologies/2022/3/RestaurantOnto#D100010'))\n",
            "(rdflib.term.URIRef('http://www.semanticweb.org/ajay/ontologies/2022/3/RestaurantOnto#Manoj_Tambe'), rdflib.term.URIRef('http://www.semanticweb.org/ajay/ontologies/2022/3/RestaurantOnto#takes'), rdflib.term.URIRef('http://www.semanticweb.org/ajay/ontologies/2022/3/RestaurantOnto#D100013'))\n",
            "(rdflib.term.URIRef('http://www.semanticweb.org/ajay/ontologies/2022/3/RestaurantOnto#Ajay_Rathod'), rdflib.term.URIRef('http://www.semanticweb.org/ajay/ontologies/2022/3/RestaurantOnto#takes'), rdflib.term.URIRef('http://www.semanticweb.org/ajay/ontologies/2022/3/RestaurantOnto#D100008'))\n",
            "(rdflib.term.URIRef('http://www.semanticweb.org/ajay/ontologies/2022/3/RestaurantOnto#Ajay_Rathod'), rdflib.term.URIRef('http://www.semanticweb.org/ajay/ontologies/2022/3/RestaurantOnto#takes'), rdflib.term.URIRef('http://www.semanticweb.org/ajay/ontologies/2022/3/RestaurantOnto#D100035'))\n",
            "(rdflib.term.URIRef('http://www.semanticweb.org/ajay/ontologies/2022/3/RestaurantOnto#Pratik_Tiwari'), rdflib.term.URIRef('http://www.semanticweb.org/ajay/ontologies/2022/3/RestaurantOnto#takes'), rdflib.term.URIRef('http://www.semanticweb.org/ajay/ontologies/2022/3/RestaurantOnto#D100014'))\n",
            "(rdflib.term.URIRef('http://www.semanticweb.org/ajay/ontologies/2022/3/RestaurantOnto#Pratik_Tiwari'), rdflib.term.URIRef('http://www.semanticweb.org/ajay/ontologies/2022/3/RestaurantOnto#takes'), rdflib.term.URIRef('http://www.semanticweb.org/ajay/ontologies/2022/3/RestaurantOnto#D100029'))\n",
            "(rdflib.term.URIRef('http://www.semanticweb.org/ajay/ontologies/2022/3/RestaurantOnto#Pratik_Tiwari'), rdflib.term.URIRef('http://www.semanticweb.org/ajay/ontologies/2022/3/RestaurantOnto#takes'), rdflib.term.URIRef('http://www.semanticweb.org/ajay/ontologies/2022/3/RestaurantOnto#D100031'))\n",
            "(rdflib.term.URIRef('http://www.semanticweb.org/ajay/ontologies/2022/3/RestaurantOnto#Pradip_Kumar'), rdflib.term.URIRef('http://www.semanticweb.org/ajay/ontologies/2022/3/RestaurantOnto#takes'), rdflib.term.URIRef('http://www.semanticweb.org/ajay/ontologies/2022/3/RestaurantOnto#D100015'))\n",
            "(rdflib.term.URIRef('http://www.semanticweb.org/ajay/ontologies/2022/3/RestaurantOnto#Pradip_Kumar'), rdflib.term.URIRef('http://www.semanticweb.org/ajay/ontologies/2022/3/RestaurantOnto#takes'), rdflib.term.URIRef('http://www.semanticweb.org/ajay/ontologies/2022/3/RestaurantOnto#D100028'))\n",
            "(rdflib.term.URIRef('http://www.semanticweb.org/ajay/ontologies/2022/3/RestaurantOnto#Pradip_Kumar'), rdflib.term.URIRef('http://www.semanticweb.org/ajay/ontologies/2022/3/RestaurantOnto#takes'), rdflib.term.URIRef('http://www.semanticweb.org/ajay/ontologies/2022/3/RestaurantOnto#D100034'))\n",
            "(rdflib.term.URIRef('http://www.semanticweb.org/ajay/ontologies/2022/3/RestaurantOnto#Pradip_Patil'), rdflib.term.URIRef('http://www.semanticweb.org/ajay/ontologies/2022/3/RestaurantOnto#takes'), rdflib.term.URIRef('http://www.semanticweb.org/ajay/ontologies/2022/3/RestaurantOnto#D100016'))\n",
            "(rdflib.term.URIRef('http://www.semanticweb.org/ajay/ontologies/2022/3/RestaurantOnto#Pradip_Patil'), rdflib.term.URIRef('http://www.semanticweb.org/ajay/ontologies/2022/3/RestaurantOnto#takes'), rdflib.term.URIRef('http://www.semanticweb.org/ajay/ontologies/2022/3/RestaurantOnto#D100027'))\n",
            "(rdflib.term.URIRef('http://www.semanticweb.org/ajay/ontologies/2022/3/RestaurantOnto#Shridhar_Chaudhari'), rdflib.term.URIRef('http://www.semanticweb.org/ajay/ontologies/2022/3/RestaurantOnto#takes'), rdflib.term.URIRef('http://www.semanticweb.org/ajay/ontologies/2022/3/RestaurantOnto#D100017'))\n",
            "(rdflib.term.URIRef('http://www.semanticweb.org/ajay/ontologies/2022/3/RestaurantOnto#Shridhar_Chaudhari'), rdflib.term.URIRef('http://www.semanticweb.org/ajay/ontologies/2022/3/RestaurantOnto#takes'), rdflib.term.URIRef('http://www.semanticweb.org/ajay/ontologies/2022/3/RestaurantOnto#D100026'))\n",
            "(rdflib.term.URIRef('http://www.semanticweb.org/ajay/ontologies/2022/3/RestaurantOnto#Kuldeep_Tambe'), rdflib.term.URIRef('http://www.semanticweb.org/ajay/ontologies/2022/3/RestaurantOnto#takes'), rdflib.term.URIRef('http://www.semanticweb.org/ajay/ontologies/2022/3/RestaurantOnto#D100018'))\n",
            "(rdflib.term.URIRef('http://www.semanticweb.org/ajay/ontologies/2022/3/RestaurantOnto#Kuldeep_Tambe'), rdflib.term.URIRef('http://www.semanticweb.org/ajay/ontologies/2022/3/RestaurantOnto#takes'), rdflib.term.URIRef('http://www.semanticweb.org/ajay/ontologies/2022/3/RestaurantOnto#D100025'))\n",
            "(rdflib.term.URIRef('http://www.semanticweb.org/ajay/ontologies/2022/3/RestaurantOnto#Akash_Patil'), rdflib.term.URIRef('http://www.semanticweb.org/ajay/ontologies/2022/3/RestaurantOnto#takes'), rdflib.term.URIRef('http://www.semanticweb.org/ajay/ontologies/2022/3/RestaurantOnto#D100019'))\n",
            "(rdflib.term.URIRef('http://www.semanticweb.org/ajay/ontologies/2022/3/RestaurantOnto#Akash_Patil'), rdflib.term.URIRef('http://www.semanticweb.org/ajay/ontologies/2022/3/RestaurantOnto#takes'), rdflib.term.URIRef('http://www.semanticweb.org/ajay/ontologies/2022/3/RestaurantOnto#D100024'))\n",
            "(rdflib.term.URIRef('http://www.semanticweb.org/ajay/ontologies/2022/3/RestaurantOnto#Tushar_kamat'), rdflib.term.URIRef('http://www.semanticweb.org/ajay/ontologies/2022/3/RestaurantOnto#takes'), rdflib.term.URIRef('http://www.semanticweb.org/ajay/ontologies/2022/3/RestaurantOnto#D100020'))\n",
            "(rdflib.term.URIRef('http://www.semanticweb.org/ajay/ontologies/2022/3/RestaurantOnto#Tushar_kamat'), rdflib.term.URIRef('http://www.semanticweb.org/ajay/ontologies/2022/3/RestaurantOnto#takes'), rdflib.term.URIRef('http://www.semanticweb.org/ajay/ontologies/2022/3/RestaurantOnto#D100023'))\n",
            "(rdflib.term.URIRef('http://www.semanticweb.org/ajay/ontologies/2022/3/RestaurantOnto#Kumar_Dev'), rdflib.term.URIRef('http://www.semanticweb.org/ajay/ontologies/2022/3/RestaurantOnto#takes'), rdflib.term.URIRef('http://www.semanticweb.org/ajay/ontologies/2022/3/RestaurantOnto#D100021'))\n",
            "(rdflib.term.URIRef('http://www.semanticweb.org/ajay/ontologies/2022/3/RestaurantOnto#Kumar_Dev'), rdflib.term.URIRef('http://www.semanticweb.org/ajay/ontologies/2022/3/RestaurantOnto#takes'), rdflib.term.URIRef('http://www.semanticweb.org/ajay/ontologies/2022/3/RestaurantOnto#D100022'))\n",
            "(rdflib.term.URIRef('http://www.semanticweb.org/ajay/ontologies/2022/3/RestaurantOnto#D100001'), rdflib.term.URIRef('http://www.semanticweb.org/ajay/ontologies/2022/3/RestaurantOnto#contains'), rdflib.term.URIRef('http://www.semanticweb.org/ajay/ontologies/2022/3/RestaurantOnto#Kashmiri_Biryani'))\n",
            "(rdflib.term.URIRef('http://www.semanticweb.org/ajay/ontologies/2022/3/RestaurantOnto#D100001'), rdflib.term.URIRef('http://www.semanticweb.org/ajay/ontologies/2022/3/RestaurantOnto#contains'), rdflib.term.URIRef('http://www.semanticweb.org/ajay/ontologies/2022/3/RestaurantOnto#Veg_Manchurian'))\n",
            "(rdflib.term.URIRef('http://www.semanticweb.org/ajay/ontologies/2022/3/RestaurantOnto#D100001'), rdflib.term.URIRef('http://www.semanticweb.org/ajay/ontologies/2022/3/RestaurantOnto#contains'), rdflib.term.URIRef('http://www.semanticweb.org/ajay/ontologies/2022/3/RestaurantOnto#Thumps_Up'))\n",
            "(rdflib.term.URIRef('http://www.semanticweb.org/ajay/ontologies/2022/3/RestaurantOnto#D100002'), rdflib.term.URIRef('http://www.semanticweb.org/ajay/ontologies/2022/3/RestaurantOnto#contains'), rdflib.term.URIRef('http://www.semanticweb.org/ajay/ontologies/2022/3/RestaurantOnto#Gobi_Manchurian'))\n",
            "(rdflib.term.URIRef('http://www.semanticweb.org/ajay/ontologies/2022/3/RestaurantOnto#D100002'), rdflib.term.URIRef('http://www.semanticweb.org/ajay/ontologies/2022/3/RestaurantOnto#contains'), rdflib.term.URIRef('http://www.semanticweb.org/ajay/ontologies/2022/3/RestaurantOnto#Chicken_Manchurian'))\n",
            "(rdflib.term.URIRef('http://www.semanticweb.org/ajay/ontologies/2022/3/RestaurantOnto#D100002'), rdflib.term.URIRef('http://www.semanticweb.org/ajay/ontologies/2022/3/RestaurantOnto#contains'), rdflib.term.URIRef('http://www.semanticweb.org/ajay/ontologies/2022/3/RestaurantOnto#Butter_Paneer_Masala'))\n",
            "(rdflib.term.URIRef('http://www.semanticweb.org/ajay/ontologies/2022/3/RestaurantOnto#D100003'), rdflib.term.URIRef('http://www.semanticweb.org/ajay/ontologies/2022/3/RestaurantOnto#contains'), rdflib.term.URIRef('http://www.semanticweb.org/ajay/ontologies/2022/3/RestaurantOnto#Gobi_Manchurian'))\n",
            "(rdflib.term.URIRef('http://www.semanticweb.org/ajay/ontologies/2022/3/RestaurantOnto#D100003'), rdflib.term.URIRef('http://www.semanticweb.org/ajay/ontologies/2022/3/RestaurantOnto#contains'), rdflib.term.URIRef('http://www.semanticweb.org/ajay/ontologies/2022/3/RestaurantOnto#Gulab_Jamun'))\n",
            "(rdflib.term.URIRef('http://www.semanticweb.org/ajay/ontologies/2022/3/RestaurantOnto#D100003'), rdflib.term.URIRef('http://www.semanticweb.org/ajay/ontologies/2022/3/RestaurantOnto#contains'), rdflib.term.URIRef('http://www.semanticweb.org/ajay/ontologies/2022/3/RestaurantOnto#Thumps_Up'))\n",
            "(rdflib.term.URIRef('http://www.semanticweb.org/ajay/ontologies/2022/3/RestaurantOnto#D100004'), rdflib.term.URIRef('http://www.semanticweb.org/ajay/ontologies/2022/3/RestaurantOnto#contains'), rdflib.term.URIRef('http://www.semanticweb.org/ajay/ontologies/2022/3/RestaurantOnto#Chocolate_Shake'))\n",
            "(rdflib.term.URIRef('http://www.semanticweb.org/ajay/ontologies/2022/3/RestaurantOnto#D100004'), rdflib.term.URIRef('http://www.semanticweb.org/ajay/ontologies/2022/3/RestaurantOnto#contains'), rdflib.term.URIRef('http://www.semanticweb.org/ajay/ontologies/2022/3/RestaurantOnto#Chicken_Manchurian'))\n",
            "(rdflib.term.URIRef('http://www.semanticweb.org/ajay/ontologies/2022/3/RestaurantOnto#D100004'), rdflib.term.URIRef('http://www.semanticweb.org/ajay/ontologies/2022/3/RestaurantOnto#contains'), rdflib.term.URIRef('http://www.semanticweb.org/ajay/ontologies/2022/3/RestaurantOnto#Butter_Paneer_Masala'))\n",
            "(rdflib.term.URIRef('http://www.semanticweb.org/ajay/ontologies/2022/3/RestaurantOnto#D100005'), rdflib.term.URIRef('http://www.semanticweb.org/ajay/ontologies/2022/3/RestaurantOnto#contains'), rdflib.term.URIRef('http://www.semanticweb.org/ajay/ontologies/2022/3/RestaurantOnto#Ras_Malai'))\n",
            "(rdflib.term.URIRef('http://www.semanticweb.org/ajay/ontologies/2022/3/RestaurantOnto#D100005'), rdflib.term.URIRef('http://www.semanticweb.org/ajay/ontologies/2022/3/RestaurantOnto#contains'), rdflib.term.URIRef('http://www.semanticweb.org/ajay/ontologies/2022/3/RestaurantOnto#Veg_Manchurian'))\n",
            "(rdflib.term.URIRef('http://www.semanticweb.org/ajay/ontologies/2022/3/RestaurantOnto#D100005'), rdflib.term.URIRef('http://www.semanticweb.org/ajay/ontologies/2022/3/RestaurantOnto#contains'), rdflib.term.URIRef('http://www.semanticweb.org/ajay/ontologies/2022/3/RestaurantOnto#Chilli_Paneer'))\n",
            "(rdflib.term.URIRef('http://www.semanticweb.org/ajay/ontologies/2022/3/RestaurantOnto#D100006'), rdflib.term.URIRef('http://www.semanticweb.org/ajay/ontologies/2022/3/RestaurantOnto#contains'), rdflib.term.URIRef('http://www.semanticweb.org/ajay/ontologies/2022/3/RestaurantOnto#Chilli_Paneer'))\n",
            "(rdflib.term.URIRef('http://www.semanticweb.org/ajay/ontologies/2022/3/RestaurantOnto#D100006'), rdflib.term.URIRef('http://www.semanticweb.org/ajay/ontologies/2022/3/RestaurantOnto#contains'), rdflib.term.URIRef('http://www.semanticweb.org/ajay/ontologies/2022/3/RestaurantOnto#Chicken_Manchurian'))\n",
            "(rdflib.term.URIRef('http://www.semanticweb.org/ajay/ontologies/2022/3/RestaurantOnto#D100006'), rdflib.term.URIRef('http://www.semanticweb.org/ajay/ontologies/2022/3/RestaurantOnto#contains'), rdflib.term.URIRef('http://www.semanticweb.org/ajay/ontologies/2022/3/RestaurantOnto#Paneer_Tikka_Masala'))\n",
            "(rdflib.term.URIRef('http://www.semanticweb.org/ajay/ontologies/2022/3/RestaurantOnto#D100007'), rdflib.term.URIRef('http://www.semanticweb.org/ajay/ontologies/2022/3/RestaurantOnto#contains'), rdflib.term.URIRef('http://www.semanticweb.org/ajay/ontologies/2022/3/RestaurantOnto#Ras_Malai'))\n",
            "(rdflib.term.URIRef('http://www.semanticweb.org/ajay/ontologies/2022/3/RestaurantOnto#D100007'), rdflib.term.URIRef('http://www.semanticweb.org/ajay/ontologies/2022/3/RestaurantOnto#contains'), rdflib.term.URIRef('http://www.semanticweb.org/ajay/ontologies/2022/3/RestaurantOnto#Ice_Cream'))\n",
            "(rdflib.term.URIRef('http://www.semanticweb.org/ajay/ontologies/2022/3/RestaurantOnto#D100007'), rdflib.term.URIRef('http://www.semanticweb.org/ajay/ontologies/2022/3/RestaurantOnto#contains'), rdflib.term.URIRef('http://www.semanticweb.org/ajay/ontologies/2022/3/RestaurantOnto#Thumps_Up'))\n",
            "(rdflib.term.URIRef('http://www.semanticweb.org/ajay/ontologies/2022/3/RestaurantOnto#D100007'), rdflib.term.URIRef('http://www.semanticweb.org/ajay/ontologies/2022/3/RestaurantOnto#contains'), rdflib.term.URIRef('http://www.semanticweb.org/ajay/ontologies/2022/3/RestaurantOnto#Kashmiri_Pulav'))\n",
            "(rdflib.term.URIRef('http://www.semanticweb.org/ajay/ontologies/2022/3/RestaurantOnto#D100008'), rdflib.term.URIRef('http://www.semanticweb.org/ajay/ontologies/2022/3/RestaurantOnto#contains'), rdflib.term.URIRef('http://www.semanticweb.org/ajay/ontologies/2022/3/RestaurantOnto#Paneer_65'))\n",
            "(rdflib.term.URIRef('http://www.semanticweb.org/ajay/ontologies/2022/3/RestaurantOnto#D100008'), rdflib.term.URIRef('http://www.semanticweb.org/ajay/ontologies/2022/3/RestaurantOnto#contains'), rdflib.term.URIRef('http://www.semanticweb.org/ajay/ontologies/2022/3/RestaurantOnto#Paneer_Tikka_Masala'))\n",
            "(rdflib.term.URIRef('http://www.semanticweb.org/ajay/ontologies/2022/3/RestaurantOnto#D100009'), rdflib.term.URIRef('http://www.semanticweb.org/ajay/ontologies/2022/3/RestaurantOnto#contains'), rdflib.term.URIRef('http://www.semanticweb.org/ajay/ontologies/2022/3/RestaurantOnto#Ice_Cream'))\n",
            "(rdflib.term.URIRef('http://www.semanticweb.org/ajay/ontologies/2022/3/RestaurantOnto#D100009'), rdflib.term.URIRef('http://www.semanticweb.org/ajay/ontologies/2022/3/RestaurantOnto#contains'), rdflib.term.URIRef('http://www.semanticweb.org/ajay/ontologies/2022/3/RestaurantOnto#Kadhai_Paneer'))\n",
            "(rdflib.term.URIRef('http://www.semanticweb.org/ajay/ontologies/2022/3/RestaurantOnto#D100009'), rdflib.term.URIRef('http://www.semanticweb.org/ajay/ontologies/2022/3/RestaurantOnto#contains'), rdflib.term.URIRef('http://www.semanticweb.org/ajay/ontologies/2022/3/RestaurantOnto#Thumps_Up'))\n",
            "(rdflib.term.URIRef('http://www.semanticweb.org/ajay/ontologies/2022/3/RestaurantOnto#D100009'), rdflib.term.URIRef('http://www.semanticweb.org/ajay/ontologies/2022/3/RestaurantOnto#contains'), rdflib.term.URIRef('http://www.semanticweb.org/ajay/ontologies/2022/3/RestaurantOnto#Kashmiri_Pulav'))\n",
            "(rdflib.term.URIRef('http://www.semanticweb.org/ajay/ontologies/2022/3/RestaurantOnto#D100010'), rdflib.term.URIRef('http://www.semanticweb.org/ajay/ontologies/2022/3/RestaurantOnto#contains'), rdflib.term.URIRef('http://www.semanticweb.org/ajay/ontologies/2022/3/RestaurantOnto#Paneer_65'))\n",
            "(rdflib.term.URIRef('http://www.semanticweb.org/ajay/ontologies/2022/3/RestaurantOnto#D100010'), rdflib.term.URIRef('http://www.semanticweb.org/ajay/ontologies/2022/3/RestaurantOnto#contains'), rdflib.term.URIRef('http://www.semanticweb.org/ajay/ontologies/2022/3/RestaurantOnto#Paneer_Biryani'))\n",
            "(rdflib.term.URIRef('http://www.semanticweb.org/ajay/ontologies/2022/3/RestaurantOnto#D100011'), rdflib.term.URIRef('http://www.semanticweb.org/ajay/ontologies/2022/3/RestaurantOnto#contains'), rdflib.term.URIRef('http://www.semanticweb.org/ajay/ontologies/2022/3/RestaurantOnto#Gobi_Manchurian'))\n",
            "(rdflib.term.URIRef('http://www.semanticweb.org/ajay/ontologies/2022/3/RestaurantOnto#D100011'), rdflib.term.URIRef('http://www.semanticweb.org/ajay/ontologies/2022/3/RestaurantOnto#contains'), rdflib.term.URIRef('http://www.semanticweb.org/ajay/ontologies/2022/3/RestaurantOnto#Hydrabadi_Biryani'))\n",
            "(rdflib.term.URIRef('http://www.semanticweb.org/ajay/ontologies/2022/3/RestaurantOnto#D100011'), rdflib.term.URIRef('http://www.semanticweb.org/ajay/ontologies/2022/3/RestaurantOnto#contains'), rdflib.term.URIRef('http://www.semanticweb.org/ajay/ontologies/2022/3/RestaurantOnto#Chilli_Potato'))\n",
            "(rdflib.term.URIRef('http://www.semanticweb.org/ajay/ontologies/2022/3/RestaurantOnto#D100011'), rdflib.term.URIRef('http://www.semanticweb.org/ajay/ontologies/2022/3/RestaurantOnto#contains'), rdflib.term.URIRef('http://www.semanticweb.org/ajay/ontologies/2022/3/RestaurantOnto#Chicken_Manchurian'))\n",
            "(rdflib.term.URIRef('http://www.semanticweb.org/ajay/ontologies/2022/3/RestaurantOnto#D100012'), rdflib.term.URIRef('http://www.semanticweb.org/ajay/ontologies/2022/3/RestaurantOnto#contains'), rdflib.term.URIRef('http://www.semanticweb.org/ajay/ontologies/2022/3/RestaurantOnto#Paneer_65'))\n",
            "(rdflib.term.URIRef('http://www.semanticweb.org/ajay/ontologies/2022/3/RestaurantOnto#D100012'), rdflib.term.URIRef('http://www.semanticweb.org/ajay/ontologies/2022/3/RestaurantOnto#contains'), rdflib.term.URIRef('http://www.semanticweb.org/ajay/ontologies/2022/3/RestaurantOnto#Dal_Khichadi'))\n",
            "(rdflib.term.URIRef('http://www.semanticweb.org/ajay/ontologies/2022/3/RestaurantOnto#D100012'), rdflib.term.URIRef('http://www.semanticweb.org/ajay/ontologies/2022/3/RestaurantOnto#contains'), rdflib.term.URIRef('http://www.semanticweb.org/ajay/ontologies/2022/3/RestaurantOnto#Chicken_Manchurian'))\n",
            "(rdflib.term.URIRef('http://www.semanticweb.org/ajay/ontologies/2022/3/RestaurantOnto#D100012'), rdflib.term.URIRef('http://www.semanticweb.org/ajay/ontologies/2022/3/RestaurantOnto#contains'), rdflib.term.URIRef('http://www.semanticweb.org/ajay/ontologies/2022/3/RestaurantOnto#Chocolate_Shake'))\n",
            "(rdflib.term.URIRef('http://www.semanticweb.org/ajay/ontologies/2022/3/RestaurantOnto#D100013'), rdflib.term.URIRef('http://www.semanticweb.org/ajay/ontologies/2022/3/RestaurantOnto#contains'), rdflib.term.URIRef('http://www.semanticweb.org/ajay/ontologies/2022/3/RestaurantOnto#Milk'))\n",
            "(rdflib.term.URIRef('http://www.semanticweb.org/ajay/ontologies/2022/3/RestaurantOnto#D100013'), rdflib.term.URIRef('http://www.semanticweb.org/ajay/ontologies/2022/3/RestaurantOnto#contains'), rdflib.term.URIRef('http://www.semanticweb.org/ajay/ontologies/2022/3/RestaurantOnto#Chicken_Manchurian'))\n",
            "(rdflib.term.URIRef('http://www.semanticweb.org/ajay/ontologies/2022/3/RestaurantOnto#D100013'), rdflib.term.URIRef('http://www.semanticweb.org/ajay/ontologies/2022/3/RestaurantOnto#contains'), rdflib.term.URIRef('http://www.semanticweb.org/ajay/ontologies/2022/3/RestaurantOnto#Veg_Manchurian'))\n",
            "(rdflib.term.URIRef('http://www.semanticweb.org/ajay/ontologies/2022/3/RestaurantOnto#D100013'), rdflib.term.URIRef('http://www.semanticweb.org/ajay/ontologies/2022/3/RestaurantOnto#contains'), rdflib.term.URIRef('http://www.semanticweb.org/ajay/ontologies/2022/3/RestaurantOnto#Hot_Chocolate'))\n",
            "(rdflib.term.URIRef('http://www.semanticweb.org/ajay/ontologies/2022/3/RestaurantOnto#D100014'), rdflib.term.URIRef('http://www.semanticweb.org/ajay/ontologies/2022/3/RestaurantOnto#contains'), rdflib.term.URIRef('http://www.semanticweb.org/ajay/ontologies/2022/3/RestaurantOnto#Paneer_65'))\n",
            "(rdflib.term.URIRef('http://www.semanticweb.org/ajay/ontologies/2022/3/RestaurantOnto#D100014'), rdflib.term.URIRef('http://www.semanticweb.org/ajay/ontologies/2022/3/RestaurantOnto#contains'), rdflib.term.URIRef('http://www.semanticweb.org/ajay/ontologies/2022/3/RestaurantOnto#Chicken_Manchurian'))\n",
            "(rdflib.term.URIRef('http://www.semanticweb.org/ajay/ontologies/2022/3/RestaurantOnto#D100014'), rdflib.term.URIRef('http://www.semanticweb.org/ajay/ontologies/2022/3/RestaurantOnto#contains'), rdflib.term.URIRef('http://www.semanticweb.org/ajay/ontologies/2022/3/RestaurantOnto#Chilli_Paneer'))\n",
            "(rdflib.term.URIRef('http://www.semanticweb.org/ajay/ontologies/2022/3/RestaurantOnto#D100015'), rdflib.term.URIRef('http://www.semanticweb.org/ajay/ontologies/2022/3/RestaurantOnto#contains'), rdflib.term.URIRef('http://www.semanticweb.org/ajay/ontologies/2022/3/RestaurantOnto#Paneer_65'))\n",
            "(rdflib.term.URIRef('http://www.semanticweb.org/ajay/ontologies/2022/3/RestaurantOnto#D100015'), rdflib.term.URIRef('http://www.semanticweb.org/ajay/ontologies/2022/3/RestaurantOnto#contains'), rdflib.term.URIRef('http://www.semanticweb.org/ajay/ontologies/2022/3/RestaurantOnto#Gulab_Jamun'))\n",
            "(rdflib.term.URIRef('http://www.semanticweb.org/ajay/ontologies/2022/3/RestaurantOnto#D100015'), rdflib.term.URIRef('http://www.semanticweb.org/ajay/ontologies/2022/3/RestaurantOnto#contains'), rdflib.term.URIRef('http://www.semanticweb.org/ajay/ontologies/2022/3/RestaurantOnto#Milk'))\n",
            "(rdflib.term.URIRef('http://www.semanticweb.org/ajay/ontologies/2022/3/RestaurantOnto#D100016'), rdflib.term.URIRef('http://www.semanticweb.org/ajay/ontologies/2022/3/RestaurantOnto#contains'), rdflib.term.URIRef('http://www.semanticweb.org/ajay/ontologies/2022/3/RestaurantOnto#Milk'))\n",
            "(rdflib.term.URIRef('http://www.semanticweb.org/ajay/ontologies/2022/3/RestaurantOnto#D100016'), rdflib.term.URIRef('http://www.semanticweb.org/ajay/ontologies/2022/3/RestaurantOnto#contains'), rdflib.term.URIRef('http://www.semanticweb.org/ajay/ontologies/2022/3/RestaurantOnto#Paneer_Tikka_Masala'))\n",
            "(rdflib.term.URIRef('http://www.semanticweb.org/ajay/ontologies/2022/3/RestaurantOnto#D100016'), rdflib.term.URIRef('http://www.semanticweb.org/ajay/ontologies/2022/3/RestaurantOnto#contains'), rdflib.term.URIRef('http://www.semanticweb.org/ajay/ontologies/2022/3/RestaurantOnto#Hot_Chocolate'))\n",
            "(rdflib.term.URIRef('http://www.semanticweb.org/ajay/ontologies/2022/3/RestaurantOnto#D100016'), rdflib.term.URIRef('http://www.semanticweb.org/ajay/ontologies/2022/3/RestaurantOnto#contains'), rdflib.term.URIRef('http://www.semanticweb.org/ajay/ontologies/2022/3/RestaurantOnto#Paneer_Biryani'))\n",
            "(rdflib.term.URIRef('http://www.semanticweb.org/ajay/ontologies/2022/3/RestaurantOnto#D100016'), rdflib.term.URIRef('http://www.semanticweb.org/ajay/ontologies/2022/3/RestaurantOnto#contains'), rdflib.term.URIRef('http://www.semanticweb.org/ajay/ontologies/2022/3/RestaurantOnto#Chilli_Paneer'))\n",
            "(rdflib.term.URIRef('http://www.semanticweb.org/ajay/ontologies/2022/3/RestaurantOnto#D100016'), rdflib.term.URIRef('http://www.semanticweb.org/ajay/ontologies/2022/3/RestaurantOnto#contains'), rdflib.term.URIRef('http://www.semanticweb.org/ajay/ontologies/2022/3/RestaurantOnto#Strawberry_Shake'))\n",
            "(rdflib.term.URIRef('http://www.semanticweb.org/ajay/ontologies/2022/3/RestaurantOnto#D100017'), rdflib.term.URIRef('http://www.semanticweb.org/ajay/ontologies/2022/3/RestaurantOnto#contains'), rdflib.term.URIRef('http://www.semanticweb.org/ajay/ontologies/2022/3/RestaurantOnto#Chilli_Potato'))\n",
            "(rdflib.term.URIRef('http://www.semanticweb.org/ajay/ontologies/2022/3/RestaurantOnto#D100017'), rdflib.term.URIRef('http://www.semanticweb.org/ajay/ontologies/2022/3/RestaurantOnto#contains'), rdflib.term.URIRef('http://www.semanticweb.org/ajay/ontologies/2022/3/RestaurantOnto#Thumps_Up'))\n",
            "(rdflib.term.URIRef('http://www.semanticweb.org/ajay/ontologies/2022/3/RestaurantOnto#D100017'), rdflib.term.URIRef('http://www.semanticweb.org/ajay/ontologies/2022/3/RestaurantOnto#contains'), rdflib.term.URIRef('http://www.semanticweb.org/ajay/ontologies/2022/3/RestaurantOnto#Hot_Chocolate'))\n",
            "(rdflib.term.URIRef('http://www.semanticweb.org/ajay/ontologies/2022/3/RestaurantOnto#D100017'), rdflib.term.URIRef('http://www.semanticweb.org/ajay/ontologies/2022/3/RestaurantOnto#contains'), rdflib.term.URIRef('http://www.semanticweb.org/ajay/ontologies/2022/3/RestaurantOnto#Paneer_Biryani'))\n",
            "(rdflib.term.URIRef('http://www.semanticweb.org/ajay/ontologies/2022/3/RestaurantOnto#D100018'), rdflib.term.URIRef('http://www.semanticweb.org/ajay/ontologies/2022/3/RestaurantOnto#contains'), rdflib.term.URIRef('http://www.semanticweb.org/ajay/ontologies/2022/3/RestaurantOnto#Milk'))\n",
            "(rdflib.term.URIRef('http://www.semanticweb.org/ajay/ontologies/2022/3/RestaurantOnto#D100018'), rdflib.term.URIRef('http://www.semanticweb.org/ajay/ontologies/2022/3/RestaurantOnto#contains'), rdflib.term.URIRef('http://www.semanticweb.org/ajay/ontologies/2022/3/RestaurantOnto#Butter_Paneer_Masala'))\n",
            "(rdflib.term.URIRef('http://www.semanticweb.org/ajay/ontologies/2022/3/RestaurantOnto#D100019'), rdflib.term.URIRef('http://www.semanticweb.org/ajay/ontologies/2022/3/RestaurantOnto#contains'), rdflib.term.URIRef('http://www.semanticweb.org/ajay/ontologies/2022/3/RestaurantOnto#Veg_Lollipop'))\n",
            "(rdflib.term.URIRef('http://www.semanticweb.org/ajay/ontologies/2022/3/RestaurantOnto#D100019'), rdflib.term.URIRef('http://www.semanticweb.org/ajay/ontologies/2022/3/RestaurantOnto#contains'), rdflib.term.URIRef('http://www.semanticweb.org/ajay/ontologies/2022/3/RestaurantOnto#Ice_Cream'))\n",
            "(rdflib.term.URIRef('http://www.semanticweb.org/ajay/ontologies/2022/3/RestaurantOnto#D100019'), rdflib.term.URIRef('http://www.semanticweb.org/ajay/ontologies/2022/3/RestaurantOnto#contains'), rdflib.term.URIRef('http://www.semanticweb.org/ajay/ontologies/2022/3/RestaurantOnto#Hot_Chocolate'))\n",
            "(rdflib.term.URIRef('http://www.semanticweb.org/ajay/ontologies/2022/3/RestaurantOnto#D100019'), rdflib.term.URIRef('http://www.semanticweb.org/ajay/ontologies/2022/3/RestaurantOnto#contains'), rdflib.term.URIRef('http://www.semanticweb.org/ajay/ontologies/2022/3/RestaurantOnto#Kashmiri_Pulav'))\n",
            "(rdflib.term.URIRef('http://www.semanticweb.org/ajay/ontologies/2022/3/RestaurantOnto#D100020'), rdflib.term.URIRef('http://www.semanticweb.org/ajay/ontologies/2022/3/RestaurantOnto#contains'), rdflib.term.URIRef('http://www.semanticweb.org/ajay/ontologies/2022/3/RestaurantOnto#Hydrabadi_Biryani'))\n",
            "(rdflib.term.URIRef('http://www.semanticweb.org/ajay/ontologies/2022/3/RestaurantOnto#D100021'), rdflib.term.URIRef('http://www.semanticweb.org/ajay/ontologies/2022/3/RestaurantOnto#contains'), rdflib.term.URIRef('http://www.semanticweb.org/ajay/ontologies/2022/3/RestaurantOnto#Ice_Cream'))\n",
            "(rdflib.term.URIRef('http://www.semanticweb.org/ajay/ontologies/2022/3/RestaurantOnto#D100021'), rdflib.term.URIRef('http://www.semanticweb.org/ajay/ontologies/2022/3/RestaurantOnto#contains'), rdflib.term.URIRef('http://www.semanticweb.org/ajay/ontologies/2022/3/RestaurantOnto#Kashmiri_Pulav'))\n",
            "(rdflib.term.URIRef('http://www.semanticweb.org/ajay/ontologies/2022/3/RestaurantOnto#D100022'), rdflib.term.URIRef('http://www.semanticweb.org/ajay/ontologies/2022/3/RestaurantOnto#contains'), rdflib.term.URIRef('http://www.semanticweb.org/ajay/ontologies/2022/3/RestaurantOnto#Dal_Khichadi'))\n",
            "(rdflib.term.URIRef('http://www.semanticweb.org/ajay/ontologies/2022/3/RestaurantOnto#D100022'), rdflib.term.URIRef('http://www.semanticweb.org/ajay/ontologies/2022/3/RestaurantOnto#contains'), rdflib.term.URIRef('http://www.semanticweb.org/ajay/ontologies/2022/3/RestaurantOnto#Chicken_Manchurian'))\n",
            "(rdflib.term.URIRef('http://www.semanticweb.org/ajay/ontologies/2022/3/RestaurantOnto#D100022'), rdflib.term.URIRef('http://www.semanticweb.org/ajay/ontologies/2022/3/RestaurantOnto#contains'), rdflib.term.URIRef('http://www.semanticweb.org/ajay/ontologies/2022/3/RestaurantOnto#Hot_Chocolate'))\n",
            "(rdflib.term.URIRef('http://www.semanticweb.org/ajay/ontologies/2022/3/RestaurantOnto#D100022'), rdflib.term.URIRef('http://www.semanticweb.org/ajay/ontologies/2022/3/RestaurantOnto#contains'), rdflib.term.URIRef('http://www.semanticweb.org/ajay/ontologies/2022/3/RestaurantOnto#Paneer_65'))\n",
            "(rdflib.term.URIRef('http://www.semanticweb.org/ajay/ontologies/2022/3/RestaurantOnto#D100022'), rdflib.term.URIRef('http://www.semanticweb.org/ajay/ontologies/2022/3/RestaurantOnto#contains'), rdflib.term.URIRef('http://www.semanticweb.org/ajay/ontologies/2022/3/RestaurantOnto#Hydrabadi_Biryani'))\n",
            "(rdflib.term.URIRef('http://www.semanticweb.org/ajay/ontologies/2022/3/RestaurantOnto#D100023'), rdflib.term.URIRef('http://www.semanticweb.org/ajay/ontologies/2022/3/RestaurantOnto#contains'), rdflib.term.URIRef('http://www.semanticweb.org/ajay/ontologies/2022/3/RestaurantOnto#Hydrabadi_Biryani'))\n",
            "(rdflib.term.URIRef('http://www.semanticweb.org/ajay/ontologies/2022/3/RestaurantOnto#D100023'), rdflib.term.URIRef('http://www.semanticweb.org/ajay/ontologies/2022/3/RestaurantOnto#contains'), rdflib.term.URIRef('http://www.semanticweb.org/ajay/ontologies/2022/3/RestaurantOnto#Milk'))\n",
            "(rdflib.term.URIRef('http://www.semanticweb.org/ajay/ontologies/2022/3/RestaurantOnto#D100023'), rdflib.term.URIRef('http://www.semanticweb.org/ajay/ontologies/2022/3/RestaurantOnto#contains'), rdflib.term.URIRef('http://www.semanticweb.org/ajay/ontologies/2022/3/RestaurantOnto#Hot_Chocolate'))\n",
            "(rdflib.term.URIRef('http://www.semanticweb.org/ajay/ontologies/2022/3/RestaurantOnto#D100024'), rdflib.term.URIRef('http://www.semanticweb.org/ajay/ontologies/2022/3/RestaurantOnto#contains'), rdflib.term.URIRef('http://www.semanticweb.org/ajay/ontologies/2022/3/RestaurantOnto#Dal_Khichadi'))\n",
            "(rdflib.term.URIRef('http://www.semanticweb.org/ajay/ontologies/2022/3/RestaurantOnto#D100024'), rdflib.term.URIRef('http://www.semanticweb.org/ajay/ontologies/2022/3/RestaurantOnto#contains'), rdflib.term.URIRef('http://www.semanticweb.org/ajay/ontologies/2022/3/RestaurantOnto#Paneer_Tikka_Masala'))\n",
            "(rdflib.term.URIRef('http://www.semanticweb.org/ajay/ontologies/2022/3/RestaurantOnto#D100024'), rdflib.term.URIRef('http://www.semanticweb.org/ajay/ontologies/2022/3/RestaurantOnto#contains'), rdflib.term.URIRef('http://www.semanticweb.org/ajay/ontologies/2022/3/RestaurantOnto#Chilli_Paneer'))\n",
            "(rdflib.term.URIRef('http://www.semanticweb.org/ajay/ontologies/2022/3/RestaurantOnto#D100025'), rdflib.term.URIRef('http://www.semanticweb.org/ajay/ontologies/2022/3/RestaurantOnto#contains'), rdflib.term.URIRef('http://www.semanticweb.org/ajay/ontologies/2022/3/RestaurantOnto#Paneer_65'))\n",
            "(rdflib.term.URIRef('http://www.semanticweb.org/ajay/ontologies/2022/3/RestaurantOnto#D100025'), rdflib.term.URIRef('http://www.semanticweb.org/ajay/ontologies/2022/3/RestaurantOnto#contains'), rdflib.term.URIRef('http://www.semanticweb.org/ajay/ontologies/2022/3/RestaurantOnto#Ice_Cream'))\n",
            "(rdflib.term.URIRef('http://www.semanticweb.org/ajay/ontologies/2022/3/RestaurantOnto#D100026'), rdflib.term.URIRef('http://www.semanticweb.org/ajay/ontologies/2022/3/RestaurantOnto#contains'), rdflib.term.URIRef('http://www.semanticweb.org/ajay/ontologies/2022/3/RestaurantOnto#Milk'))\n",
            "(rdflib.term.URIRef('http://www.semanticweb.org/ajay/ontologies/2022/3/RestaurantOnto#D100026'), rdflib.term.URIRef('http://www.semanticweb.org/ajay/ontologies/2022/3/RestaurantOnto#contains'), rdflib.term.URIRef('http://www.semanticweb.org/ajay/ontologies/2022/3/RestaurantOnto#Ras_Malai'))\n",
            "(rdflib.term.URIRef('http://www.semanticweb.org/ajay/ontologies/2022/3/RestaurantOnto#D100026'), rdflib.term.URIRef('http://www.semanticweb.org/ajay/ontologies/2022/3/RestaurantOnto#contains'), rdflib.term.URIRef('http://www.semanticweb.org/ajay/ontologies/2022/3/RestaurantOnto#Chilli_Potato'))\n",
            "(rdflib.term.URIRef('http://www.semanticweb.org/ajay/ontologies/2022/3/RestaurantOnto#D100026'), rdflib.term.URIRef('http://www.semanticweb.org/ajay/ontologies/2022/3/RestaurantOnto#contains'), rdflib.term.URIRef('http://www.semanticweb.org/ajay/ontologies/2022/3/RestaurantOnto#Hot_Chocolate'))\n",
            "(rdflib.term.URIRef('http://www.semanticweb.org/ajay/ontologies/2022/3/RestaurantOnto#D100026'), rdflib.term.URIRef('http://www.semanticweb.org/ajay/ontologies/2022/3/RestaurantOnto#contains'), rdflib.term.URIRef('http://www.semanticweb.org/ajay/ontologies/2022/3/RestaurantOnto#Paneer_65'))\n",
            "(rdflib.term.URIRef('http://www.semanticweb.org/ajay/ontologies/2022/3/RestaurantOnto#D100026'), rdflib.term.URIRef('http://www.semanticweb.org/ajay/ontologies/2022/3/RestaurantOnto#contains'), rdflib.term.URIRef('http://www.semanticweb.org/ajay/ontologies/2022/3/RestaurantOnto#Strawberry_Shake'))\n",
            "(rdflib.term.URIRef('http://www.semanticweb.org/ajay/ontologies/2022/3/RestaurantOnto#D100027'), rdflib.term.URIRef('http://www.semanticweb.org/ajay/ontologies/2022/3/RestaurantOnto#contains'), rdflib.term.URIRef('http://www.semanticweb.org/ajay/ontologies/2022/3/RestaurantOnto#Ras_Malai'))\n",
            "(rdflib.term.URIRef('http://www.semanticweb.org/ajay/ontologies/2022/3/RestaurantOnto#D100027'), rdflib.term.URIRef('http://www.semanticweb.org/ajay/ontologies/2022/3/RestaurantOnto#contains'), rdflib.term.URIRef('http://www.semanticweb.org/ajay/ontologies/2022/3/RestaurantOnto#Chocolate_Shake'))\n",
            "(rdflib.term.URIRef('http://www.semanticweb.org/ajay/ontologies/2022/3/RestaurantOnto#D100027'), rdflib.term.URIRef('http://www.semanticweb.org/ajay/ontologies/2022/3/RestaurantOnto#contains'), rdflib.term.URIRef('http://www.semanticweb.org/ajay/ontologies/2022/3/RestaurantOnto#Hot_Chocolate'))\n",
            "(rdflib.term.URIRef('http://www.semanticweb.org/ajay/ontologies/2022/3/RestaurantOnto#D100027'), rdflib.term.URIRef('http://www.semanticweb.org/ajay/ontologies/2022/3/RestaurantOnto#contains'), rdflib.term.URIRef('http://www.semanticweb.org/ajay/ontologies/2022/3/RestaurantOnto#Kashmiri_Pulav'))\n",
            "(rdflib.term.URIRef('http://www.semanticweb.org/ajay/ontologies/2022/3/RestaurantOnto#D100028'), rdflib.term.URIRef('http://www.semanticweb.org/ajay/ontologies/2022/3/RestaurantOnto#contains'), rdflib.term.URIRef('http://www.semanticweb.org/ajay/ontologies/2022/3/RestaurantOnto#Kadhai_Paneer'))\n",
            "(rdflib.term.URIRef('http://www.semanticweb.org/ajay/ontologies/2022/3/RestaurantOnto#D100028'), rdflib.term.URIRef('http://www.semanticweb.org/ajay/ontologies/2022/3/RestaurantOnto#contains'), rdflib.term.URIRef('http://www.semanticweb.org/ajay/ontologies/2022/3/RestaurantOnto#Butter_Paneer_Masala'))\n",
            "(rdflib.term.URIRef('http://www.semanticweb.org/ajay/ontologies/2022/3/RestaurantOnto#D100029'), rdflib.term.URIRef('http://www.semanticweb.org/ajay/ontologies/2022/3/RestaurantOnto#contains'), rdflib.term.URIRef('http://www.semanticweb.org/ajay/ontologies/2022/3/RestaurantOnto#Veg_Lollipop'))\n",
            "(rdflib.term.URIRef('http://www.semanticweb.org/ajay/ontologies/2022/3/RestaurantOnto#D100029'), rdflib.term.URIRef('http://www.semanticweb.org/ajay/ontologies/2022/3/RestaurantOnto#contains'), rdflib.term.URIRef('http://www.semanticweb.org/ajay/ontologies/2022/3/RestaurantOnto#Ice_Cream'))\n",
            "(rdflib.term.URIRef('http://www.semanticweb.org/ajay/ontologies/2022/3/RestaurantOnto#D100029'), rdflib.term.URIRef('http://www.semanticweb.org/ajay/ontologies/2022/3/RestaurantOnto#contains'), rdflib.term.URIRef('http://www.semanticweb.org/ajay/ontologies/2022/3/RestaurantOnto#Kashmiri_Pulav'))\n",
            "(rdflib.term.URIRef('http://www.semanticweb.org/ajay/ontologies/2022/3/RestaurantOnto#D100030'), rdflib.term.URIRef('http://www.semanticweb.org/ajay/ontologies/2022/3/RestaurantOnto#contains'), rdflib.term.URIRef('http://www.semanticweb.org/ajay/ontologies/2022/3/RestaurantOnto#Ras_Malai'))\n",
            "(rdflib.term.URIRef('http://www.semanticweb.org/ajay/ontologies/2022/3/RestaurantOnto#D100030'), rdflib.term.URIRef('http://www.semanticweb.org/ajay/ontologies/2022/3/RestaurantOnto#contains'), rdflib.term.URIRef('http://www.semanticweb.org/ajay/ontologies/2022/3/RestaurantOnto#Hydrabadi_Biryani'))\n",
            "(rdflib.term.URIRef('http://www.semanticweb.org/ajay/ontologies/2022/3/RestaurantOnto#D100031'), rdflib.term.URIRef('http://www.semanticweb.org/ajay/ontologies/2022/3/RestaurantOnto#contains'), rdflib.term.URIRef('http://www.semanticweb.org/ajay/ontologies/2022/3/RestaurantOnto#Gobi_Manchurian'))\n",
            "(rdflib.term.URIRef('http://www.semanticweb.org/ajay/ontologies/2022/3/RestaurantOnto#D100031'), rdflib.term.URIRef('http://www.semanticweb.org/ajay/ontologies/2022/3/RestaurantOnto#contains'), rdflib.term.URIRef('http://www.semanticweb.org/ajay/ontologies/2022/3/RestaurantOnto#Veg_Lollipop'))\n",
            "(rdflib.term.URIRef('http://www.semanticweb.org/ajay/ontologies/2022/3/RestaurantOnto#D100031'), rdflib.term.URIRef('http://www.semanticweb.org/ajay/ontologies/2022/3/RestaurantOnto#contains'), rdflib.term.URIRef('http://www.semanticweb.org/ajay/ontologies/2022/3/RestaurantOnto#Chicken_Biryani'))\n",
            "(rdflib.term.URIRef('http://www.semanticweb.org/ajay/ontologies/2022/3/RestaurantOnto#D100032'), rdflib.term.URIRef('http://www.semanticweb.org/ajay/ontologies/2022/3/RestaurantOnto#contains'), rdflib.term.URIRef('http://www.semanticweb.org/ajay/ontologies/2022/3/RestaurantOnto#Gulab_Jamun'))\n",
            "(rdflib.term.URIRef('http://www.semanticweb.org/ajay/ontologies/2022/3/RestaurantOnto#D100032'), rdflib.term.URIRef('http://www.semanticweb.org/ajay/ontologies/2022/3/RestaurantOnto#contains'), rdflib.term.URIRef('http://www.semanticweb.org/ajay/ontologies/2022/3/RestaurantOnto#Veg_Lollipop'))\n",
            "(rdflib.term.URIRef('http://www.semanticweb.org/ajay/ontologies/2022/3/RestaurantOnto#D100032'), rdflib.term.URIRef('http://www.semanticweb.org/ajay/ontologies/2022/3/RestaurantOnto#contains'), rdflib.term.URIRef('http://www.semanticweb.org/ajay/ontologies/2022/3/RestaurantOnto#Thumps_Up'))\n",
            "(rdflib.term.URIRef('http://www.semanticweb.org/ajay/ontologies/2022/3/RestaurantOnto#D100033'), rdflib.term.URIRef('http://www.semanticweb.org/ajay/ontologies/2022/3/RestaurantOnto#contains'), rdflib.term.URIRef('http://www.semanticweb.org/ajay/ontologies/2022/3/RestaurantOnto#Coke'))\n",
            "(rdflib.term.URIRef('http://www.semanticweb.org/ajay/ontologies/2022/3/RestaurantOnto#D100033'), rdflib.term.URIRef('http://www.semanticweb.org/ajay/ontologies/2022/3/RestaurantOnto#contains'), rdflib.term.URIRef('http://www.semanticweb.org/ajay/ontologies/2022/3/RestaurantOnto#Chilli_Potato'))\n",
            "(rdflib.term.URIRef('http://www.semanticweb.org/ajay/ontologies/2022/3/RestaurantOnto#D100033'), rdflib.term.URIRef('http://www.semanticweb.org/ajay/ontologies/2022/3/RestaurantOnto#contains'), rdflib.term.URIRef('http://www.semanticweb.org/ajay/ontologies/2022/3/RestaurantOnto#Ice_Cream'))\n",
            "(rdflib.term.URIRef('http://www.semanticweb.org/ajay/ontologies/2022/3/RestaurantOnto#D100034'), rdflib.term.URIRef('http://www.semanticweb.org/ajay/ontologies/2022/3/RestaurantOnto#contains'), rdflib.term.URIRef('http://www.semanticweb.org/ajay/ontologies/2022/3/RestaurantOnto#Gobi_Manchurian'))\n",
            "(rdflib.term.URIRef('http://www.semanticweb.org/ajay/ontologies/2022/3/RestaurantOnto#D100034'), rdflib.term.URIRef('http://www.semanticweb.org/ajay/ontologies/2022/3/RestaurantOnto#contains'), rdflib.term.URIRef('http://www.semanticweb.org/ajay/ontologies/2022/3/RestaurantOnto#Kadhai_Paneer'))\n",
            "(rdflib.term.URIRef('http://www.semanticweb.org/ajay/ontologies/2022/3/RestaurantOnto#D100034'), rdflib.term.URIRef('http://www.semanticweb.org/ajay/ontologies/2022/3/RestaurantOnto#contains'), rdflib.term.URIRef('http://www.semanticweb.org/ajay/ontologies/2022/3/RestaurantOnto#Thumps_Up'))\n",
            "(rdflib.term.URIRef('http://www.semanticweb.org/ajay/ontologies/2022/3/RestaurantOnto#D100035'), rdflib.term.URIRef('http://www.semanticweb.org/ajay/ontologies/2022/3/RestaurantOnto#contains'), rdflib.term.URIRef('http://www.semanticweb.org/ajay/ontologies/2022/3/RestaurantOnto#Gobi_Manchurian'))\n",
            "(rdflib.term.URIRef('http://www.semanticweb.org/ajay/ontologies/2022/3/RestaurantOnto#D100035'), rdflib.term.URIRef('http://www.semanticweb.org/ajay/ontologies/2022/3/RestaurantOnto#contains'), rdflib.term.URIRef('http://www.semanticweb.org/ajay/ontologies/2022/3/RestaurantOnto#Coke'))\n",
            "(rdflib.term.URIRef('http://www.semanticweb.org/ajay/ontologies/2022/3/RestaurantOnto#D100035'), rdflib.term.URIRef('http://www.semanticweb.org/ajay/ontologies/2022/3/RestaurantOnto#contains'), rdflib.term.URIRef('http://www.semanticweb.org/ajay/ontologies/2022/3/RestaurantOnto#Ice_Cream'))\n"
          ]
        }
      ],
      "source": [
        "for o in obj_properties:\n",
        "  print(o)"
      ],
      "id": "5IYX9_KhkFXY"
    },
    {
      "cell_type": "code",
      "execution_count": 12,
      "metadata": {
        "id": "1HDhKWtVkFXZ",
        "colab": {
          "base_uri": "https://localhost:8080/"
        },
        "outputId": "a1c7faf2-9732-49a2-daaf-4a53e6475496"
      },
      "outputs": [
        {
          "output_type": "stream",
          "name": "stdout",
          "text": [
            "(rdflib.term.URIRef('http://www.semanticweb.org/ajay/ontologies/2022/3/RestaurantOnto#Rakul'), rdflib.term.URIRef('http://www.semanticweb.org/ajay/ontologies/2022/3/RestaurantOnto#id'), rdflib.term.Literal('S011', datatype=rdflib.term.URIRef('http://www.w3.org/2001/XMLSchema#string')))\n",
            "(rdflib.term.URIRef('http://www.semanticweb.org/ajay/ontologies/2022/3/RestaurantOnto#Rakul'), rdflib.term.URIRef('http://www.semanticweb.org/ajay/ontologies/2022/3/RestaurantOnto#name'), rdflib.term.Literal('Rakul', datatype=rdflib.term.URIRef('http://www.w3.org/2001/XMLSchema#string')))\n",
            "(rdflib.term.URIRef('http://www.semanticweb.org/ajay/ontologies/2022/3/RestaurantOnto#Rakul'), rdflib.term.URIRef('http://www.semanticweb.org/ajay/ontologies/2022/3/RestaurantOnto#salary'), rdflib.term.Literal('18000', datatype=rdflib.term.URIRef('http://www.w3.org/2001/XMLSchema#string')))\n",
            "(rdflib.term.URIRef('http://www.semanticweb.org/ajay/ontologies/2022/3/RestaurantOnto#Rahul_Sharma'), rdflib.term.URIRef('http://www.semanticweb.org/ajay/ontologies/2022/3/RestaurantOnto#id'), rdflib.term.Literal('S012', datatype=rdflib.term.URIRef('http://www.w3.org/2001/XMLSchema#string')))\n",
            "(rdflib.term.URIRef('http://www.semanticweb.org/ajay/ontologies/2022/3/RestaurantOnto#Rahul_Sharma'), rdflib.term.URIRef('http://www.semanticweb.org/ajay/ontologies/2022/3/RestaurantOnto#name'), rdflib.term.Literal('Rahul Sharma', datatype=rdflib.term.URIRef('http://www.w3.org/2001/XMLSchema#string')))\n",
            "(rdflib.term.URIRef('http://www.semanticweb.org/ajay/ontologies/2022/3/RestaurantOnto#Rahul_Sharma'), rdflib.term.URIRef('http://www.semanticweb.org/ajay/ontologies/2022/3/RestaurantOnto#salary'), rdflib.term.Literal('18000', datatype=rdflib.term.URIRef('http://www.w3.org/2001/XMLSchema#string')))\n",
            "(rdflib.term.URIRef('http://www.semanticweb.org/ajay/ontologies/2022/3/RestaurantOnto#Ramesh_Dev'), rdflib.term.URIRef('http://www.semanticweb.org/ajay/ontologies/2022/3/RestaurantOnto#id'), rdflib.term.Literal('S013', datatype=rdflib.term.URIRef('http://www.w3.org/2001/XMLSchema#string')))\n",
            "(rdflib.term.URIRef('http://www.semanticweb.org/ajay/ontologies/2022/3/RestaurantOnto#Ramesh_Dev'), rdflib.term.URIRef('http://www.semanticweb.org/ajay/ontologies/2022/3/RestaurantOnto#name'), rdflib.term.Literal('Ramesh Dev', datatype=rdflib.term.URIRef('http://www.w3.org/2001/XMLSchema#string')))\n",
            "(rdflib.term.URIRef('http://www.semanticweb.org/ajay/ontologies/2022/3/RestaurantOnto#Ramesh_Dev'), rdflib.term.URIRef('http://www.semanticweb.org/ajay/ontologies/2022/3/RestaurantOnto#salary'), rdflib.term.Literal('18000', datatype=rdflib.term.URIRef('http://www.w3.org/2001/XMLSchema#string')))\n",
            "(rdflib.term.URIRef('http://www.semanticweb.org/ajay/ontologies/2022/3/RestaurantOnto#Shridhar_Tambe'), rdflib.term.URIRef('http://www.semanticweb.org/ajay/ontologies/2022/3/RestaurantOnto#id'), rdflib.term.Literal('S014', datatype=rdflib.term.URIRef('http://www.w3.org/2001/XMLSchema#string')))\n",
            "(rdflib.term.URIRef('http://www.semanticweb.org/ajay/ontologies/2022/3/RestaurantOnto#Shridhar_Tambe'), rdflib.term.URIRef('http://www.semanticweb.org/ajay/ontologies/2022/3/RestaurantOnto#name'), rdflib.term.Literal('Shridhar Tambe', datatype=rdflib.term.URIRef('http://www.w3.org/2001/XMLSchema#string')))\n",
            "(rdflib.term.URIRef('http://www.semanticweb.org/ajay/ontologies/2022/3/RestaurantOnto#Shridhar_Tambe'), rdflib.term.URIRef('http://www.semanticweb.org/ajay/ontologies/2022/3/RestaurantOnto#salary'), rdflib.term.Literal('18000', datatype=rdflib.term.URIRef('http://www.w3.org/2001/XMLSchema#string')))\n",
            "(rdflib.term.URIRef('http://www.semanticweb.org/ajay/ontologies/2022/3/RestaurantOnto#Pravin_Tambe'), rdflib.term.URIRef('http://www.semanticweb.org/ajay/ontologies/2022/3/RestaurantOnto#id'), rdflib.term.Literal('S015', datatype=rdflib.term.URIRef('http://www.w3.org/2001/XMLSchema#string')))\n",
            "(rdflib.term.URIRef('http://www.semanticweb.org/ajay/ontologies/2022/3/RestaurantOnto#Pravin_Tambe'), rdflib.term.URIRef('http://www.semanticweb.org/ajay/ontologies/2022/3/RestaurantOnto#name'), rdflib.term.Literal('Pravin Tambe', datatype=rdflib.term.URIRef('http://www.w3.org/2001/XMLSchema#string')))\n",
            "(rdflib.term.URIRef('http://www.semanticweb.org/ajay/ontologies/2022/3/RestaurantOnto#Pravin_Tambe'), rdflib.term.URIRef('http://www.semanticweb.org/ajay/ontologies/2022/3/RestaurantOnto#salary'), rdflib.term.Literal('19000', datatype=rdflib.term.URIRef('http://www.w3.org/2001/XMLSchema#string')))\n",
            "(rdflib.term.URIRef('http://www.semanticweb.org/ajay/ontologies/2022/3/RestaurantOnto#Manoj_Kumar'), rdflib.term.URIRef('http://www.semanticweb.org/ajay/ontologies/2022/3/RestaurantOnto#id'), rdflib.term.Literal('S016', datatype=rdflib.term.URIRef('http://www.w3.org/2001/XMLSchema#string')))\n",
            "(rdflib.term.URIRef('http://www.semanticweb.org/ajay/ontologies/2022/3/RestaurantOnto#Manoj_Kumar'), rdflib.term.URIRef('http://www.semanticweb.org/ajay/ontologies/2022/3/RestaurantOnto#name'), rdflib.term.Literal('Manoj Kumar', datatype=rdflib.term.URIRef('http://www.w3.org/2001/XMLSchema#string')))\n",
            "(rdflib.term.URIRef('http://www.semanticweb.org/ajay/ontologies/2022/3/RestaurantOnto#Manoj_Kumar'), rdflib.term.URIRef('http://www.semanticweb.org/ajay/ontologies/2022/3/RestaurantOnto#salary'), rdflib.term.Literal('18000', datatype=rdflib.term.URIRef('http://www.w3.org/2001/XMLSchema#string')))\n",
            "(rdflib.term.URIRef('http://www.semanticweb.org/ajay/ontologies/2022/3/RestaurantOnto#Shridhar_Gupta'), rdflib.term.URIRef('http://www.semanticweb.org/ajay/ontologies/2022/3/RestaurantOnto#id'), rdflib.term.Literal('S017', datatype=rdflib.term.URIRef('http://www.w3.org/2001/XMLSchema#string')))\n",
            "(rdflib.term.URIRef('http://www.semanticweb.org/ajay/ontologies/2022/3/RestaurantOnto#Shridhar_Gupta'), rdflib.term.URIRef('http://www.semanticweb.org/ajay/ontologies/2022/3/RestaurantOnto#name'), rdflib.term.Literal('Shridhar Gupta', datatype=rdflib.term.URIRef('http://www.w3.org/2001/XMLSchema#string')))\n",
            "(rdflib.term.URIRef('http://www.semanticweb.org/ajay/ontologies/2022/3/RestaurantOnto#Shridhar_Gupta'), rdflib.term.URIRef('http://www.semanticweb.org/ajay/ontologies/2022/3/RestaurantOnto#salary'), rdflib.term.Literal('17000', datatype=rdflib.term.URIRef('http://www.w3.org/2001/XMLSchema#string')))\n",
            "(rdflib.term.URIRef('http://www.semanticweb.org/ajay/ontologies/2022/3/RestaurantOnto#Manoj_Tambe'), rdflib.term.URIRef('http://www.semanticweb.org/ajay/ontologies/2022/3/RestaurantOnto#id'), rdflib.term.Literal('S018', datatype=rdflib.term.URIRef('http://www.w3.org/2001/XMLSchema#string')))\n",
            "(rdflib.term.URIRef('http://www.semanticweb.org/ajay/ontologies/2022/3/RestaurantOnto#Manoj_Tambe'), rdflib.term.URIRef('http://www.semanticweb.org/ajay/ontologies/2022/3/RestaurantOnto#name'), rdflib.term.Literal('Manoj Tambe', datatype=rdflib.term.URIRef('http://www.w3.org/2001/XMLSchema#string')))\n",
            "(rdflib.term.URIRef('http://www.semanticweb.org/ajay/ontologies/2022/3/RestaurantOnto#Manoj_Tambe'), rdflib.term.URIRef('http://www.semanticweb.org/ajay/ontologies/2022/3/RestaurantOnto#salary'), rdflib.term.Literal('18000', datatype=rdflib.term.URIRef('http://www.w3.org/2001/XMLSchema#string')))\n",
            "(rdflib.term.URIRef('http://www.semanticweb.org/ajay/ontologies/2022/3/RestaurantOnto#Ajay_Rathod'), rdflib.term.URIRef('http://www.semanticweb.org/ajay/ontologies/2022/3/RestaurantOnto#id'), rdflib.term.Literal('S019', datatype=rdflib.term.URIRef('http://www.w3.org/2001/XMLSchema#string')))\n",
            "(rdflib.term.URIRef('http://www.semanticweb.org/ajay/ontologies/2022/3/RestaurantOnto#Ajay_Rathod'), rdflib.term.URIRef('http://www.semanticweb.org/ajay/ontologies/2022/3/RestaurantOnto#name'), rdflib.term.Literal('Ajay Rathod', datatype=rdflib.term.URIRef('http://www.w3.org/2001/XMLSchema#string')))\n",
            "(rdflib.term.URIRef('http://www.semanticweb.org/ajay/ontologies/2022/3/RestaurantOnto#Ajay_Rathod'), rdflib.term.URIRef('http://www.semanticweb.org/ajay/ontologies/2022/3/RestaurantOnto#salary'), rdflib.term.Literal('18000', datatype=rdflib.term.URIRef('http://www.w3.org/2001/XMLSchema#string')))\n",
            "(rdflib.term.URIRef('http://www.semanticweb.org/ajay/ontologies/2022/3/RestaurantOnto#Pratik_Tiwari'), rdflib.term.URIRef('http://www.semanticweb.org/ajay/ontologies/2022/3/RestaurantOnto#id'), rdflib.term.Literal('S020', datatype=rdflib.term.URIRef('http://www.w3.org/2001/XMLSchema#string')))\n",
            "(rdflib.term.URIRef('http://www.semanticweb.org/ajay/ontologies/2022/3/RestaurantOnto#Pratik_Tiwari'), rdflib.term.URIRef('http://www.semanticweb.org/ajay/ontologies/2022/3/RestaurantOnto#name'), rdflib.term.Literal('Pratik Tiwari', datatype=rdflib.term.URIRef('http://www.w3.org/2001/XMLSchema#string')))\n",
            "(rdflib.term.URIRef('http://www.semanticweb.org/ajay/ontologies/2022/3/RestaurantOnto#Pratik_Tiwari'), rdflib.term.URIRef('http://www.semanticweb.org/ajay/ontologies/2022/3/RestaurantOnto#salary'), rdflib.term.Literal('18000', datatype=rdflib.term.URIRef('http://www.w3.org/2001/XMLSchema#string')))\n",
            "(rdflib.term.URIRef('http://www.semanticweb.org/ajay/ontologies/2022/3/RestaurantOnto#Pradip_Kumar'), rdflib.term.URIRef('http://www.semanticweb.org/ajay/ontologies/2022/3/RestaurantOnto#id'), rdflib.term.Literal('S021', datatype=rdflib.term.URIRef('http://www.w3.org/2001/XMLSchema#string')))\n",
            "(rdflib.term.URIRef('http://www.semanticweb.org/ajay/ontologies/2022/3/RestaurantOnto#Pradip_Kumar'), rdflib.term.URIRef('http://www.semanticweb.org/ajay/ontologies/2022/3/RestaurantOnto#name'), rdflib.term.Literal('Pradip Kumar', datatype=rdflib.term.URIRef('http://www.w3.org/2001/XMLSchema#string')))\n",
            "(rdflib.term.URIRef('http://www.semanticweb.org/ajay/ontologies/2022/3/RestaurantOnto#Pradip_Kumar'), rdflib.term.URIRef('http://www.semanticweb.org/ajay/ontologies/2022/3/RestaurantOnto#salary'), rdflib.term.Literal('18000', datatype=rdflib.term.URIRef('http://www.w3.org/2001/XMLSchema#string')))\n",
            "(rdflib.term.URIRef('http://www.semanticweb.org/ajay/ontologies/2022/3/RestaurantOnto#Pradip_Patil'), rdflib.term.URIRef('http://www.semanticweb.org/ajay/ontologies/2022/3/RestaurantOnto#id'), rdflib.term.Literal('S022', datatype=rdflib.term.URIRef('http://www.w3.org/2001/XMLSchema#string')))\n",
            "(rdflib.term.URIRef('http://www.semanticweb.org/ajay/ontologies/2022/3/RestaurantOnto#Pradip_Patil'), rdflib.term.URIRef('http://www.semanticweb.org/ajay/ontologies/2022/3/RestaurantOnto#name'), rdflib.term.Literal('Pradip Patil', datatype=rdflib.term.URIRef('http://www.w3.org/2001/XMLSchema#string')))\n",
            "(rdflib.term.URIRef('http://www.semanticweb.org/ajay/ontologies/2022/3/RestaurantOnto#Pradip_Patil'), rdflib.term.URIRef('http://www.semanticweb.org/ajay/ontologies/2022/3/RestaurantOnto#salary'), rdflib.term.Literal('18000', datatype=rdflib.term.URIRef('http://www.w3.org/2001/XMLSchema#string')))\n",
            "(rdflib.term.URIRef('http://www.semanticweb.org/ajay/ontologies/2022/3/RestaurantOnto#Shridhar_Chaudhari'), rdflib.term.URIRef('http://www.semanticweb.org/ajay/ontologies/2022/3/RestaurantOnto#id'), rdflib.term.Literal('S023', datatype=rdflib.term.URIRef('http://www.w3.org/2001/XMLSchema#string')))\n",
            "(rdflib.term.URIRef('http://www.semanticweb.org/ajay/ontologies/2022/3/RestaurantOnto#Shridhar_Chaudhari'), rdflib.term.URIRef('http://www.semanticweb.org/ajay/ontologies/2022/3/RestaurantOnto#name'), rdflib.term.Literal('Shridhar Chaudhari', datatype=rdflib.term.URIRef('http://www.w3.org/2001/XMLSchema#string')))\n",
            "(rdflib.term.URIRef('http://www.semanticweb.org/ajay/ontologies/2022/3/RestaurantOnto#Shridhar_Chaudhari'), rdflib.term.URIRef('http://www.semanticweb.org/ajay/ontologies/2022/3/RestaurantOnto#salary'), rdflib.term.Literal('18000', datatype=rdflib.term.URIRef('http://www.w3.org/2001/XMLSchema#string')))\n",
            "(rdflib.term.URIRef('http://www.semanticweb.org/ajay/ontologies/2022/3/RestaurantOnto#Kuldeep_Tambe'), rdflib.term.URIRef('http://www.semanticweb.org/ajay/ontologies/2022/3/RestaurantOnto#id'), rdflib.term.Literal('S024', datatype=rdflib.term.URIRef('http://www.w3.org/2001/XMLSchema#string')))\n",
            "(rdflib.term.URIRef('http://www.semanticweb.org/ajay/ontologies/2022/3/RestaurantOnto#Kuldeep_Tambe'), rdflib.term.URIRef('http://www.semanticweb.org/ajay/ontologies/2022/3/RestaurantOnto#name'), rdflib.term.Literal('Kuldeep Tambe', datatype=rdflib.term.URIRef('http://www.w3.org/2001/XMLSchema#string')))\n",
            "(rdflib.term.URIRef('http://www.semanticweb.org/ajay/ontologies/2022/3/RestaurantOnto#Kuldeep_Tambe'), rdflib.term.URIRef('http://www.semanticweb.org/ajay/ontologies/2022/3/RestaurantOnto#salary'), rdflib.term.Literal('18500', datatype=rdflib.term.URIRef('http://www.w3.org/2001/XMLSchema#string')))\n",
            "(rdflib.term.URIRef('http://www.semanticweb.org/ajay/ontologies/2022/3/RestaurantOnto#Akash_Patil'), rdflib.term.URIRef('http://www.semanticweb.org/ajay/ontologies/2022/3/RestaurantOnto#id'), rdflib.term.Literal('S025', datatype=rdflib.term.URIRef('http://www.w3.org/2001/XMLSchema#string')))\n",
            "(rdflib.term.URIRef('http://www.semanticweb.org/ajay/ontologies/2022/3/RestaurantOnto#Akash_Patil'), rdflib.term.URIRef('http://www.semanticweb.org/ajay/ontologies/2022/3/RestaurantOnto#name'), rdflib.term.Literal('Akash Patil', datatype=rdflib.term.URIRef('http://www.w3.org/2001/XMLSchema#string')))\n",
            "(rdflib.term.URIRef('http://www.semanticweb.org/ajay/ontologies/2022/3/RestaurantOnto#Akash_Patil'), rdflib.term.URIRef('http://www.semanticweb.org/ajay/ontologies/2022/3/RestaurantOnto#salary'), rdflib.term.Literal('18000', datatype=rdflib.term.URIRef('http://www.w3.org/2001/XMLSchema#string')))\n",
            "(rdflib.term.URIRef('http://www.semanticweb.org/ajay/ontologies/2022/3/RestaurantOnto#Tushar_kamat'), rdflib.term.URIRef('http://www.semanticweb.org/ajay/ontologies/2022/3/RestaurantOnto#id'), rdflib.term.Literal('S026', datatype=rdflib.term.URIRef('http://www.w3.org/2001/XMLSchema#string')))\n",
            "(rdflib.term.URIRef('http://www.semanticweb.org/ajay/ontologies/2022/3/RestaurantOnto#Tushar_kamat'), rdflib.term.URIRef('http://www.semanticweb.org/ajay/ontologies/2022/3/RestaurantOnto#name'), rdflib.term.Literal('Tushar kamat', datatype=rdflib.term.URIRef('http://www.w3.org/2001/XMLSchema#string')))\n",
            "(rdflib.term.URIRef('http://www.semanticweb.org/ajay/ontologies/2022/3/RestaurantOnto#Tushar_kamat'), rdflib.term.URIRef('http://www.semanticweb.org/ajay/ontologies/2022/3/RestaurantOnto#salary'), rdflib.term.Literal('18000', datatype=rdflib.term.URIRef('http://www.w3.org/2001/XMLSchema#string')))\n",
            "(rdflib.term.URIRef('http://www.semanticweb.org/ajay/ontologies/2022/3/RestaurantOnto#Kumar_Dev'), rdflib.term.URIRef('http://www.semanticweb.org/ajay/ontologies/2022/3/RestaurantOnto#id'), rdflib.term.Literal('S027', datatype=rdflib.term.URIRef('http://www.w3.org/2001/XMLSchema#string')))\n",
            "(rdflib.term.URIRef('http://www.semanticweb.org/ajay/ontologies/2022/3/RestaurantOnto#Kumar_Dev'), rdflib.term.URIRef('http://www.semanticweb.org/ajay/ontologies/2022/3/RestaurantOnto#name'), rdflib.term.Literal('Kumar Dev', datatype=rdflib.term.URIRef('http://www.w3.org/2001/XMLSchema#string')))\n",
            "(rdflib.term.URIRef('http://www.semanticweb.org/ajay/ontologies/2022/3/RestaurantOnto#Kumar_Dev'), rdflib.term.URIRef('http://www.semanticweb.org/ajay/ontologies/2022/3/RestaurantOnto#salary'), rdflib.term.Literal('18000', datatype=rdflib.term.URIRef('http://www.w3.org/2001/XMLSchema#string')))\n",
            "(rdflib.term.URIRef('http://www.semanticweb.org/ajay/ontologies/2022/3/RestaurantOnto#D100001'), rdflib.term.URIRef('http://www.semanticweb.org/ajay/ontologies/2022/3/RestaurantOnto#orderDetails'), rdflib.term.Literal('Date = 20 March 2022 | Amount = 252 | Items = I103 I120 I111', datatype=rdflib.term.URIRef('http://www.w3.org/2001/XMLSchema#string')))\n",
            "(rdflib.term.URIRef('http://www.semanticweb.org/ajay/ontologies/2022/3/RestaurantOnto#D100002'), rdflib.term.URIRef('http://www.semanticweb.org/ajay/ontologies/2022/3/RestaurantOnto#orderDetails'), rdflib.term.Literal('Date = 20 March 2022 | Amount = 153 | Items = I113 I107 I106', datatype=rdflib.term.URIRef('http://www.w3.org/2001/XMLSchema#string')))\n",
            "(rdflib.term.URIRef('http://www.semanticweb.org/ajay/ontologies/2022/3/RestaurantOnto#D100003'), rdflib.term.URIRef('http://www.semanticweb.org/ajay/ontologies/2022/3/RestaurantOnto#orderDetails'), rdflib.term.Literal('Date = 20 March 2022 | Amount = 100 | Items = I107 I117 I120', datatype=rdflib.term.URIRef('http://www.w3.org/2001/XMLSchema#string')))\n",
            "(rdflib.term.URIRef('http://www.semanticweb.org/ajay/ontologies/2022/3/RestaurantOnto#D100004'), rdflib.term.URIRef('http://www.semanticweb.org/ajay/ontologies/2022/3/RestaurantOnto#orderDetails'), rdflib.term.Literal('Date = 20 March 2022 | Amount = 341 | Items = I113 I122 I106', datatype=rdflib.term.URIRef('http://www.w3.org/2001/XMLSchema#string')))\n",
            "(rdflib.term.URIRef('http://www.semanticweb.org/ajay/ontologies/2022/3/RestaurantOnto#D100005'), rdflib.term.URIRef('http://www.semanticweb.org/ajay/ontologies/2022/3/RestaurantOnto#orderDetails'), rdflib.term.Literal('Date = 21 March 2022 | Amount = 286 | Items = I103 I119 I101', datatype=rdflib.term.URIRef('http://www.w3.org/2001/XMLSchema#string')))\n",
            "(rdflib.term.URIRef('http://www.semanticweb.org/ajay/ontologies/2022/3/RestaurantOnto#D100006'), rdflib.term.URIRef('http://www.semanticweb.org/ajay/ontologies/2022/3/RestaurantOnto#orderDetails'), rdflib.term.Literal('Date = 21 March 2022 | Amount = 190 | Items = I112 I101 I106', datatype=rdflib.term.URIRef('http://www.w3.org/2001/XMLSchema#string')))\n",
            "(rdflib.term.URIRef('http://www.semanticweb.org/ajay/ontologies/2022/3/RestaurantOnto#D100007'), rdflib.term.URIRef('http://www.semanticweb.org/ajay/ontologies/2022/3/RestaurantOnto#orderDetails'), rdflib.term.Literal('Date = 21 March 2022 | Amount = 460 | Items = I115 I119 I120 I118', datatype=rdflib.term.URIRef('http://www.w3.org/2001/XMLSchema#string')))\n",
            "(rdflib.term.URIRef('http://www.semanticweb.org/ajay/ontologies/2022/3/RestaurantOnto#D100008'), rdflib.term.URIRef('http://www.semanticweb.org/ajay/ontologies/2022/3/RestaurantOnto#orderDetails'), rdflib.term.Literal('Date = 21 March 2022 | Amount = 160 | Items = I112 I102', datatype=rdflib.term.URIRef('http://www.w3.org/2001/XMLSchema#string')))\n",
            "(rdflib.term.URIRef('http://www.semanticweb.org/ajay/ontologies/2022/3/RestaurantOnto#D100009'), rdflib.term.URIRef('http://www.semanticweb.org/ajay/ontologies/2022/3/RestaurantOnto#orderDetails'), rdflib.term.Literal('Date = 21 March 2022 | Amount = 386 | Items = I115 I114 I120 I118', datatype=rdflib.term.URIRef('http://www.w3.org/2001/XMLSchema#string')))\n",
            "(rdflib.term.URIRef('http://www.semanticweb.org/ajay/ontologies/2022/3/RestaurantOnto#D100010'), rdflib.term.URIRef('http://www.semanticweb.org/ajay/ontologies/2022/3/RestaurantOnto#orderDetails'), rdflib.term.Literal('Date = 21 March 2022 | Amount = 110 | Items = I102 I109', datatype=rdflib.term.URIRef('http://www.w3.org/2001/XMLSchema#string')))\n",
            "(rdflib.term.URIRef('http://www.semanticweb.org/ajay/ontologies/2022/3/RestaurantOnto#D100011'), rdflib.term.URIRef('http://www.semanticweb.org/ajay/ontologies/2022/3/RestaurantOnto#orderDetails'), rdflib.term.Literal('Date = 22 March 2022 | Amount = 260 | Items = I105 I106 I107 I108', datatype=rdflib.term.URIRef('http://www.w3.org/2001/XMLSchema#string')))\n",
            "(rdflib.term.URIRef('http://www.semanticweb.org/ajay/ontologies/2022/3/RestaurantOnto#D100012'), rdflib.term.URIRef('http://www.semanticweb.org/ajay/ontologies/2022/3/RestaurantOnto#orderDetails'), rdflib.term.Literal('Date = 22 March 2022 | Amount = 650 | Items = I102 I102 I106 I116 I116 I122', datatype=rdflib.term.URIRef('http://www.w3.org/2001/XMLSchema#string')))\n",
            "(rdflib.term.URIRef('http://www.semanticweb.org/ajay/ontologies/2022/3/RestaurantOnto#D100013'), rdflib.term.URIRef('http://www.semanticweb.org/ajay/ontologies/2022/3/RestaurantOnto#orderDetails'), rdflib.term.Literal('Date = 22 March 2022 | Amount = 679 | Items = I103 I106 I123 I124 I124', datatype=rdflib.term.URIRef('http://www.w3.org/2001/XMLSchema#string')))\n",
            "(rdflib.term.URIRef('http://www.semanticweb.org/ajay/ontologies/2022/3/RestaurantOnto#D100014'), rdflib.term.URIRef('http://www.semanticweb.org/ajay/ontologies/2022/3/RestaurantOnto#orderDetails'), rdflib.term.Literal('Date = 22 March 2022 | Amount = 159 | Items = I101 I102 I106', datatype=rdflib.term.URIRef('http://www.w3.org/2001/XMLSchema#string')))\n",
            "(rdflib.term.URIRef('http://www.semanticweb.org/ajay/ontologies/2022/3/RestaurantOnto#D100015'), rdflib.term.URIRef('http://www.semanticweb.org/ajay/ontologies/2022/3/RestaurantOnto#orderDetails'), rdflib.term.Literal('Date = 22 March 2022 | Amount = 148 | Items = I102 I117 I124', datatype=rdflib.term.URIRef('http://www.w3.org/2001/XMLSchema#string')))\n",
            "(rdflib.term.URIRef('http://www.semanticweb.org/ajay/ontologies/2022/3/RestaurantOnto#D100016'), rdflib.term.URIRef('http://www.semanticweb.org/ajay/ontologies/2022/3/RestaurantOnto#orderDetails'), rdflib.term.Literal('Date = 23 March 2022 | Amount = 750 | Items = I101 I109 I112 I123 I124 I125', datatype=rdflib.term.URIRef('http://www.w3.org/2001/XMLSchema#string')))\n",
            "(rdflib.term.URIRef('http://www.semanticweb.org/ajay/ontologies/2022/3/RestaurantOnto#D100017'), rdflib.term.URIRef('http://www.semanticweb.org/ajay/ontologies/2022/3/RestaurantOnto#orderDetails'), rdflib.term.Literal('Date = 23 March 2022 | Amount = 468 | Items = I105 I109 I120 I123', datatype=rdflib.term.URIRef('http://www.w3.org/2001/XMLSchema#string')))\n",
            "(rdflib.term.URIRef('http://www.semanticweb.org/ajay/ontologies/2022/3/RestaurantOnto#D100018'), rdflib.term.URIRef('http://www.semanticweb.org/ajay/ontologies/2022/3/RestaurantOnto#orderDetails'), rdflib.term.Literal('Date = 23 March 2022 | Amount = 150 | Items = I113 I124', datatype=rdflib.term.URIRef('http://www.w3.org/2001/XMLSchema#string')))\n",
            "(rdflib.term.URIRef('http://www.semanticweb.org/ajay/ontologies/2022/3/RestaurantOnto#D100019'), rdflib.term.URIRef('http://www.semanticweb.org/ajay/ontologies/2022/3/RestaurantOnto#orderDetails'), rdflib.term.Literal('Date = 23 March 2022 | Amount = 250 | Items = I115 I104 I123 I118', datatype=rdflib.term.URIRef('http://www.w3.org/2001/XMLSchema#string')))\n",
            "(rdflib.term.URIRef('http://www.semanticweb.org/ajay/ontologies/2022/3/RestaurantOnto#D100020'), rdflib.term.URIRef('http://www.semanticweb.org/ajay/ontologies/2022/3/RestaurantOnto#orderDetails'), rdflib.term.Literal('Date = 23 March 2022 | Amount = 140 | Items = I108', datatype=rdflib.term.URIRef('http://www.w3.org/2001/XMLSchema#string')))\n",
            "(rdflib.term.URIRef('http://www.semanticweb.org/ajay/ontologies/2022/3/RestaurantOnto#D100021'), rdflib.term.URIRef('http://www.semanticweb.org/ajay/ontologies/2022/3/RestaurantOnto#orderDetails'), rdflib.term.Literal('Date = 24 March 2022 | Amount = 160 | Items = I115 I118', datatype=rdflib.term.URIRef('http://www.w3.org/2001/XMLSchema#string')))\n",
            "(rdflib.term.URIRef('http://www.semanticweb.org/ajay/ontologies/2022/3/RestaurantOnto#D100022'), rdflib.term.URIRef('http://www.semanticweb.org/ajay/ontologies/2022/3/RestaurantOnto#orderDetails'), rdflib.term.Literal('Date = 24 March 2022 | Amount = 821 | Items = I102 I102 I106 I108 I116 I123', datatype=rdflib.term.URIRef('http://www.w3.org/2001/XMLSchema#string')))\n",
            "(rdflib.term.URIRef('http://www.semanticweb.org/ajay/ontologies/2022/3/RestaurantOnto#D100023'), rdflib.term.URIRef('http://www.semanticweb.org/ajay/ontologies/2022/3/RestaurantOnto#orderDetails'), rdflib.term.Literal('Date = 24 March 2022 | Amount = 305 | Items = I108 I108 I123 I124', datatype=rdflib.term.URIRef('http://www.w3.org/2001/XMLSchema#string')))\n",
            "(rdflib.term.URIRef('http://www.semanticweb.org/ajay/ontologies/2022/3/RestaurantOnto#D100024'), rdflib.term.URIRef('http://www.semanticweb.org/ajay/ontologies/2022/3/RestaurantOnto#orderDetails'), rdflib.term.Literal('Date = 24 March 2022 | Amount = 289 | Items = I101 I112 I116', datatype=rdflib.term.URIRef('http://www.w3.org/2001/XMLSchema#string')))\n",
            "(rdflib.term.URIRef('http://www.semanticweb.org/ajay/ontologies/2022/3/RestaurantOnto#D100025'), rdflib.term.URIRef('http://www.semanticweb.org/ajay/ontologies/2022/3/RestaurantOnto#orderDetails'), rdflib.term.Literal('Date = 24 March 2022 | Amount = 327 | Items = I102 I118 I118', datatype=rdflib.term.URIRef('http://www.w3.org/2001/XMLSchema#string')))\n",
            "(rdflib.term.URIRef('http://www.semanticweb.org/ajay/ontologies/2022/3/RestaurantOnto#D100026'), rdflib.term.URIRef('http://www.semanticweb.org/ajay/ontologies/2022/3/RestaurantOnto#orderDetails'), rdflib.term.Literal('Date = 25 March 2022 | Amount = 560 | Items = I102 I105 I119 I123 I124 I125', datatype=rdflib.term.URIRef('http://www.w3.org/2001/XMLSchema#string')))\n",
            "(rdflib.term.URIRef('http://www.semanticweb.org/ajay/ontologies/2022/3/RestaurantOnto#D100027'), rdflib.term.URIRef('http://www.semanticweb.org/ajay/ontologies/2022/3/RestaurantOnto#orderDetails'), rdflib.term.Literal('Date = 25 March 2022 | Amount = 425 | Items = I115 I119 I122 I123', datatype=rdflib.term.URIRef('http://www.w3.org/2001/XMLSchema#string')))\n",
            "(rdflib.term.URIRef('http://www.semanticweb.org/ajay/ontologies/2022/3/RestaurantOnto#D100028'), rdflib.term.URIRef('http://www.semanticweb.org/ajay/ontologies/2022/3/RestaurantOnto#orderDetails'), rdflib.term.Literal('Date = 25 March 2022 | Amount = 100 | Items = I113 I114', datatype=rdflib.term.URIRef('http://www.w3.org/2001/XMLSchema#string')))\n",
            "(rdflib.term.URIRef('http://www.semanticweb.org/ajay/ontologies/2022/3/RestaurantOnto#D100029'), rdflib.term.URIRef('http://www.semanticweb.org/ajay/ontologies/2022/3/RestaurantOnto#orderDetails'), rdflib.term.Literal('Date = 25 March 2022 | Amount = 115 | Items = I115 I104 I118', datatype=rdflib.term.URIRef('http://www.w3.org/2001/XMLSchema#string')))\n",
            "(rdflib.term.URIRef('http://www.semanticweb.org/ajay/ontologies/2022/3/RestaurantOnto#D100030'), rdflib.term.URIRef('http://www.semanticweb.org/ajay/ontologies/2022/3/RestaurantOnto#orderDetails'), rdflib.term.Literal('Date = 25 March 2022 | Amount = 95 | Items = I108 I119', datatype=rdflib.term.URIRef('http://www.w3.org/2001/XMLSchema#string')))\n",
            "(rdflib.term.URIRef('http://www.semanticweb.org/ajay/ontologies/2022/3/RestaurantOnto#D100031'), rdflib.term.URIRef('http://www.semanticweb.org/ajay/ontologies/2022/3/RestaurantOnto#orderDetails'), rdflib.term.Literal('Date = 26 March 2022 | Amount = 160 | Items = I110 I107 I104', datatype=rdflib.term.URIRef('http://www.w3.org/2001/XMLSchema#string')))\n",
            "(rdflib.term.URIRef('http://www.semanticweb.org/ajay/ontologies/2022/3/RestaurantOnto#D100032'), rdflib.term.URIRef('http://www.semanticweb.org/ajay/ontologies/2022/3/RestaurantOnto#orderDetails'), rdflib.term.Literal('Date = 27 March 2022 | Amount = 180 | Items = I120 I117 I104', datatype=rdflib.term.URIRef('http://www.w3.org/2001/XMLSchema#string')))\n",
            "(rdflib.term.URIRef('http://www.semanticweb.org/ajay/ontologies/2022/3/RestaurantOnto#D100033'), rdflib.term.URIRef('http://www.semanticweb.org/ajay/ontologies/2022/3/RestaurantOnto#orderDetails'), rdflib.term.Literal('Date = 28 March 2022 | Amount = 210 | Items = I121 I118 I105', datatype=rdflib.term.URIRef('http://www.w3.org/2001/XMLSchema#string')))\n",
            "(rdflib.term.URIRef('http://www.semanticweb.org/ajay/ontologies/2022/3/RestaurantOnto#D100034'), rdflib.term.URIRef('http://www.semanticweb.org/ajay/ontologies/2022/3/RestaurantOnto#orderDetails'), rdflib.term.Literal('Date = 29 March 2022 | Amount = 175 | Items = I120 I107 I114', datatype=rdflib.term.URIRef('http://www.w3.org/2001/XMLSchema#string')))\n",
            "(rdflib.term.URIRef('http://www.semanticweb.org/ajay/ontologies/2022/3/RestaurantOnto#D100035'), rdflib.term.URIRef('http://www.semanticweb.org/ajay/ontologies/2022/3/RestaurantOnto#orderDetails'), rdflib.term.Literal('Date = 30 March 2022 | Amount = 149 | Items = I121 I118 I107', datatype=rdflib.term.URIRef('http://www.w3.org/2001/XMLSchema#string')))\n"
          ]
        }
      ],
      "source": [
        "for a in att_properties:\n",
        "  print(a)"
      ],
      "id": "1HDhKWtVkFXZ"
    },
    {
      "cell_type": "code",
      "source": [
        "print(\"Total Added Triples = \",int(len(triplets))+int(len(obj_properties))+int(len(att_properties)))\n",
        "print(int(len(triplets)))\n",
        "print(int(len(obj_properties)))\n",
        "print(int(len(att_properties)))"
      ],
      "metadata": {
        "colab": {
          "base_uri": "https://localhost:8080/"
        },
        "id": "W3gjVaxuwYbX",
        "outputId": "030678b5-4689-4a73-926e-026d0c258f5d"
      },
      "id": "W3gjVaxuwYbX",
      "execution_count": 10,
      "outputs": [
        {
          "output_type": "stream",
          "name": "stdout",
          "text": [
            "Total Added Triples =  389\n",
            "156\n",
            "147\n",
            "86\n"
          ]
        }
      ]
    },
    {
      "cell_type": "markdown",
      "source": [
        "###Add tiplets"
      ],
      "metadata": {
        "id": "cVWm1OTevcS3"
      },
      "id": "cVWm1OTevcS3"
    },
    {
      "cell_type": "code",
      "execution_count": 11,
      "metadata": {
        "id": "4F7E4l-skFXb"
      },
      "outputs": [],
      "source": [
        "for i in triplets:\n",
        "    g.add(i)\n",
        "\n",
        "for i in obj_properties:\n",
        "    g.add(i)\n",
        "\n",
        "for i in att_properties:\n",
        "    g.add(i)"
      ],
      "id": "4F7E4l-skFXb"
    },
    {
      "cell_type": "code",
      "source": [
        "count= 0\n",
        "for s,p,o in g:\n",
        "  count +=1\n",
        "print(count)"
      ],
      "metadata": {
        "colab": {
          "base_uri": "https://localhost:8080/"
        },
        "id": "cg-qJ7eBzLKX",
        "outputId": "e4206e57-6fbf-4feb-ee4b-76db061b5219"
      },
      "id": "cg-qJ7eBzLKX",
      "execution_count": 12,
      "outputs": [
        {
          "output_type": "stream",
          "name": "stdout",
          "text": [
            "1425\n"
          ]
        }
      ]
    },
    {
      "cell_type": "code",
      "execution_count": 13,
      "metadata": {
        "colab": {
          "base_uri": "https://localhost:8080/"
        },
        "id": "1ZFwtp9xkFXe",
        "outputId": "f26d9206-15a3-4b71-edb6-c6922be6c80b"
      },
      "outputs": [
        {
          "output_type": "execute_result",
          "data": {
            "text/plain": [
              "<Graph identifier=N6da0e517f6024488a53abb0a3b52f56e (<class 'rdflib.graph.Graph'>)>"
            ]
          },
          "metadata": {},
          "execution_count": 13
        }
      ],
      "source": [
        "g.serialize(destination=\"draft1.owl\",format='xml')"
      ],
      "id": "1ZFwtp9xkFXe"
    },
    {
      "cell_type": "code",
      "source": [
        "from owlready2 import *\n",
        "\n",
        "onto_path.append(cwd)\n",
        "onto = get_ontology(\"file://draft1.owl\").load()"
      ],
      "metadata": {
        "id": "pczctmniMZQr"
      },
      "id": "pczctmniMZQr",
      "execution_count": 14,
      "outputs": []
    },
    {
      "cell_type": "code",
      "source": [
        "print(type(onto))"
      ],
      "metadata": {
        "colab": {
          "base_uri": "https://localhost:8080/"
        },
        "id": "Njyy4AMmjgaH",
        "outputId": "345547f6-8886-4122-e73f-a162923720e7"
      },
      "id": "Njyy4AMmjgaH",
      "execution_count": 18,
      "outputs": [
        {
          "output_type": "stream",
          "name": "stdout",
          "text": [
            "<class 'owlready2.namespace.Ontology'>\n"
          ]
        }
      ]
    },
    {
      "cell_type": "code",
      "source": [
        "with onto: sync_reasoner()\n",
        "onto.save(\"RestaurantOntologyRdf_syn.owl\")"
      ],
      "metadata": {
        "colab": {
          "base_uri": "https://localhost:8080/"
        },
        "id": "1-YMG28xNe4h",
        "outputId": "b411749b-b1b4-4cfd-d5dc-dc80b38dabdc"
      },
      "id": "1-YMG28xNe4h",
      "execution_count": 15,
      "outputs": [
        {
          "output_type": "stream",
          "name": "stderr",
          "text": [
            "* Owlready2 * Running HermiT...\n",
            "    java -Xmx2000M -cp /usr/local/lib/python3.7/dist-packages/owlready2/hermit:/usr/local/lib/python3.7/dist-packages/owlready2/hermit/HermiT.jar org.semanticweb.HermiT.cli.CommandLine -c -O -D -I file:////tmp/tmpz5kq2n9b\n",
            "* Owlready2 * HermiT took 4.445778131484985 seconds\n",
            "* Owlready * Reparenting draft1.managesActively: {owl.ObjectProperty, draft1.manages} => {draft1.manages}\n",
            "* Owlready * (NB: only changes on entities loaded in Python are shown, other changes are done but not listed)\n"
          ]
        }
      ]
    },
    {
      "cell_type": "code",
      "source": [
        "import rdflib\n",
        "g2=rdflib.Graph()\n",
        "fl = \"RestaurantOntologyRdf_syn.owl\"\n",
        "g2.load(fl, format='xml')"
      ],
      "metadata": {
        "colab": {
          "base_uri": "https://localhost:8080/"
        },
        "id": "Gpi_FOJ1ag_i",
        "outputId": "beabe298-e118-4fa4-bc6b-2d28e5361764"
      },
      "id": "Gpi_FOJ1ag_i",
      "execution_count": 16,
      "outputs": [
        {
          "output_type": "execute_result",
          "data": {
            "text/plain": [
              "<Graph identifier=N6f72950772404e648307e11bbaaba737 (<class 'rdflib.graph.Graph'>)>"
            ]
          },
          "metadata": {},
          "execution_count": 16
        }
      ]
    },
    {
      "cell_type": "code",
      "source": [
        "c=0\n",
        "for t in g2.triples((None,None,None)):\n",
        "  c+=1\n",
        "print(c)"
      ],
      "metadata": {
        "colab": {
          "base_uri": "https://localhost:8080/"
        },
        "id": "Q6tNRHmuamDf",
        "outputId": "e340e554-e9d1-4030-ab35-d9b214941f3d"
      },
      "id": "Q6tNRHmuamDf",
      "execution_count": 17,
      "outputs": [
        {
          "output_type": "stream",
          "name": "stdout",
          "text": [
            "1435\n"
          ]
        }
      ]
    },
    {
      "cell_type": "code",
      "source": [
        "from rdflib.compare import to_isomorphic, graph_diff\n",
        "iso1 = to_isomorphic(g)\n",
        "iso2 = to_isomorphic(g2)\n",
        "\n",
        "in_both, in_first, in_second = graph_diff(iso1,iso2)\n",
        "\n",
        "def dump_nt_sorted(g):\n",
        "    for l in sorted(g.serialize(format='nt').splitlines()):\n",
        "        if(l) : print(l)\n",
        "\n",
        "dump_nt_sorted(in_second)"
      ],
      "metadata": {
        "colab": {
          "base_uri": "https://localhost:8080/"
        },
        "id": "VH-YMRlvapS9",
        "outputId": "f9cfea12-d02a-4367-99b8-aeccb6f6ee2c"
      },
      "id": "VH-YMRlvapS9",
      "execution_count": 18,
      "outputs": [
        {
          "output_type": "stream",
          "name": "stdout",
          "text": [
            "<http://www.semanticweb.org/ajay/ontologies/2022/3/RestaurantOnto#BillingCounter> <http://www.w3.org/2000/01/rdf-schema#subClassOf> <http://www.semanticweb.org/ajay/ontologies/2022/3/RestaurantOnto#Area> .\n",
            "<http://www.semanticweb.org/ajay/ontologies/2022/3/RestaurantOnto#Dessert> <http://www.w3.org/2000/01/rdf-schema#subClassOf> <http://www.semanticweb.org/ajay/ontologies/2022/3/RestaurantOnto#Dish> .\n",
            "<http://www.semanticweb.org/ajay/ontologies/2022/3/RestaurantOnto#Kitchen> <http://www.w3.org/2000/01/rdf-schema#subClassOf> <http://www.semanticweb.org/ajay/ontologies/2022/3/RestaurantOnto#Area> .\n",
            "<http://www.semanticweb.org/ajay/ontologies/2022/3/RestaurantOnto#MainCourse> <http://www.w3.org/2000/01/rdf-schema#subClassOf> <http://www.semanticweb.org/ajay/ontologies/2022/3/RestaurantOnto#Dish> .\n",
            "<http://www.semanticweb.org/ajay/ontologies/2022/3/RestaurantOnto#PartyHall> <http://www.w3.org/2000/01/rdf-schema#subClassOf> <http://www.semanticweb.org/ajay/ontologies/2022/3/RestaurantOnto#Area> .\n",
            "<http://www.semanticweb.org/ajay/ontologies/2022/3/RestaurantOnto#RestRoom> <http://www.w3.org/2000/01/rdf-schema#subClassOf> <http://www.semanticweb.org/ajay/ontologies/2022/3/RestaurantOnto#Area> .\n",
            "<http://www.semanticweb.org/ajay/ontologies/2022/3/RestaurantOnto#Starter> <http://www.w3.org/2000/01/rdf-schema#subClassOf> <http://www.semanticweb.org/ajay/ontologies/2022/3/RestaurantOnto#Dish> .\n",
            "<http://www.semanticweb.org/ajay/ontologies/2022/3/RestaurantOnto#Supervisor> <http://www.w3.org/2000/01/rdf-schema#subClassOf> <http://www.semanticweb.org/ajay/ontologies/2022/3/RestaurantOnto#Manager> .\n",
            "<http://www.semanticweb.org/ajay/ontologies/2022/3/RestaurantOnto#billingCounter1> <http://www.w3.org/1999/02/22-rdf-syntax-ns#type> <http://www.semanticweb.org/ajay/ontologies/2022/3/RestaurantOnto#Area> .\n",
            "<http://www.semanticweb.org/ajay/ontologies/2022/3/RestaurantOnto#reservedTable1> <http://www.w3.org/1999/02/22-rdf-syntax-ns#type> <http://www.semanticweb.org/ajay/ontologies/2022/3/RestaurantOnto#ReservedTable> .\n"
          ]
        }
      ]
    }
  ],
  "metadata": {
    "kernelspec": {
      "display_name": "Python 3",
      "language": "python",
      "name": "python3"
    },
    "language_info": {
      "codemirror_mode": {
        "name": "ipython",
        "version": 3
      },
      "file_extension": ".py",
      "mimetype": "text/x-python",
      "name": "python",
      "nbconvert_exporter": "python",
      "pygments_lexer": "ipython3",
      "version": "3.8.5"
    },
    "colab": {
      "name": "ontologyA4_CS21M045.ipynb",
      "provenance": [],
      "collapsed_sections": []
    }
  },
  "nbformat": 4,
  "nbformat_minor": 5
}